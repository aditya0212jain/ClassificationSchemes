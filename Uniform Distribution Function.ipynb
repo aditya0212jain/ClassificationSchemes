{
 "cells": [
  {
   "cell_type": "code",
   "execution_count": 1,
   "metadata": {
    "collapsed": true
   },
   "outputs": [],
   "source": [
    "import numpy as np\n",
    "import scipy\n",
    "from scipy.stats import norm"
   ]
  },
  {
   "cell_type": "code",
   "execution_count": null,
   "metadata": {
    "collapsed": true
   },
   "outputs": [],
   "source": [
    "class UniformDistribution:\n",
    "    'General n-dimensional Uniform Distribution'\n",
    "    dimension = 0\n",
    "    parameters = 0\n",
    "    \n",
    "    def __init__(self, dimension):\n",
    "        self.dimension = dimension\n",
    "        self.parameters = np.zeros(shape=(dimension,2))\n",
    "        \n",
    "    def pdfEstimation(self, X):\n",
    "        pdf = 1.0\n",
    "        for row in range(0, dimension):\n",
    "            if (X[row] >= parameters[row][0]) && (X[row] <= parameters[row][1]):\n",
    "                pdf *= (1/(parameters[row][1]-parameters[row][0]))\n",
    "            else:\n",
    "                return 0.0\n",
    "        return pdf\n",
    "        \n",
    "    def cdfEstimate(self, X):\n",
    "        cdf = 1.0\n",
    "        for row in range(0, dimension):\n",
    "            if (X[row] >= parameters[row][0]):\n",
    "                cdf *= ((min(parameters[row][1], X[row]) - parameters[row][0])/(parameters[row][1] - parameters[row][0]))\n",
    "            else:\n",
    "                return 0.0\n",
    "        return cdf\n",
    "        \n",
    "    def sample(self, sampleSize):\n",
    "        observation = np.zeros(shape=(sampleSize, dimension))\n",
    "        for row in range(0, sampleSize):\n",
    "            for col in range(0, dimesion):\n",
    "                observation[row][col] = np.random.uniform(parameters[col][0], parameters[col][1], 1)\n",
    "        return observation\n",
    "    \n",
    "    def printParameters(self):\n",
    "        print (\"Uniform Distribution in \" + str(dimension) + \" Dimension with paramters: \")\n",
    "        for row in range(0, dimension):\n",
    "            print (\"( \" + str(parameters[0]) + \", \" + str(parameters[1]) + \" )\")\n",
    "        \n",
    "    def Mean(self):\n",
    "        mean = np.zeros(shape=(dimension, 1))\n",
    "        for row in range(0, dimension):\n",
    "            mean[row]  = ((parameters[row][0] + parameters[row][1])/2)\n",
    "        return mean\n",
    "    \n",
    "    def Median(self):\n",
    "        median = np.zeros(shape=(dimension, 1))\n",
    "        for row in range(0, dimension):\n",
    "            median[row]  = ((parameters[row][0] + parameters[row][1])/2)\n",
    "        return median\n",
    "    \n",
    "    def Variance(self):\n",
    "        variance = np.zeros(shape=(dimension, 1))\n",
    "        for row in range(0, dimension):\n",
    "            variance[row]  = ((parameters[row][1] - parameters[row][0])*(parameters[row][1] - parameters[row][0])/12)\n",
    "        return variance\n",
    "    \n",
    "    def Covariance(self):\n",
    "        covariance = np.zeros(shape=(dimension, dimension))\n",
    "        for row in range(0, dimension):\n",
    "            for col in range(0, dimension):\n",
    "            if row != col:\n",
    "                covariance[row][col] = 0\n",
    "            else:\n",
    "                covariance[row][col]  = ((parameters[row][1] - parameters[row][0])*(parameters[row][1] - parameters[row][0])/12)\n",
    "        return covariance\n",
    "    \n",
    "    def MaxLikelihoodEstimation(self, data):\n",
    "        n = data.shape[0]\n",
    "        for col in range(0, dimension):\n",
    "            parameters[col][0] = data[0][col]\n",
    "            parameters[col][1] = data[0][col]\n",
    "        for row in range(1, n):\n",
    "            for col in range(0, dimension):\n",
    "                parameters[col][0] = min(parameters[col][0], data[row][col])\n",
    "                parameters[col][1] = max(parameters[col][1], data[row][col])"
   ]
  }
 ],
 "metadata": {
  "kernelspec": {
   "display_name": "Python 3",
   "language": "python",
   "name": "python3"
  },
  "language_info": {
   "codemirror_mode": {
    "name": "ipython",
    "version": 3
   },
   "file_extension": ".py",
   "mimetype": "text/x-python",
   "name": "python",
   "nbconvert_exporter": "python",
   "pygments_lexer": "ipython3",
   "version": "3.5.1"
  }
 },
 "nbformat": 4,
 "nbformat_minor": 0
}
