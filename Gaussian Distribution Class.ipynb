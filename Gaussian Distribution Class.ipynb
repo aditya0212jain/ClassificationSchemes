{
 "cells": [
  {
   "cell_type": "code",
   "execution_count": 3,
   "metadata": {
    "collapsed": true
   },
   "outputs": [],
   "source": [
    "import numpy as np\n",
    "import scipy\n",
    "from scipy.stats import norm"
   ]
  },
  {
   "cell_type": "code",
   "execution_count": 13,
   "metadata": {
    "collapsed": false
   },
   "outputs": [],
   "source": [
    "class GaussianDistribution:\n",
    "    'General n-dimensional Gaussian Distribution'\n",
    "    \n",
    "    def __init__(self, dimension):\n",
    "        self.dimension = dimension\n",
    "        self.mean = np.zeros(shape=(dimension, 1))\n",
    "        self.covariance = np.zeros(shape=(dimension, dimension))\n",
    "        \n",
    "    def pdfEstimation(self, X):\n",
    "        return multivariate_normal.pdf(X, mean, covariance)\n",
    "    \n",
    "    def cdfEstimation(self, x):\n",
    "        if dimension != 1:\n",
    "            return -1\n",
    "        return norm.cdf(x-mean)\n",
    "        \n",
    "    def sample(self, sampleSize):\n",
    "        observation = np.zeros(shape=(sampleSize, dimension))\n",
    "        for row in range(0, sampleSize):\n",
    "            oservation[row] = np.random.multivariate_normal(mean, covariance)\n",
    "        return observation\n",
    "    \n",
    "    def printParameters(self):\n",
    "        print (\"Gaussian Distribution with dimension: \" + str(dimension))\n",
    "        print (\"Mean of the Distribution: \" + str(mean))\n",
    "        print (\"Covariance of the Distribution: \" + str(covariance))\n",
    "    \n",
    "    def Mean(self):\n",
    "        return mean\n",
    "    \n",
    "    def Median(self):\n",
    "        return mean\n",
    "    \n",
    "    def Mode(self):\n",
    "        return mean\n",
    "    \n",
    "    def Variance(self):\n",
    "        return covariance\n",
    "    \n",
    "    def MaxLikelihoodEstimation(self, data):\n",
    "        if (data.shape[1] != dimension):\n",
    "            print (\"Data's Dimension: \" + str(data.shape[0]) + \", doesn't match with Gaussions Distribution Dimension \" + str(dimension))\n",
    "        mean = np.mean(data, axis=0)\n",
    "        covariance = np.cov(data, rowvar=0)\n",
    "        \n",
    "    def BayesianEstimation(self, data, mu0, sigma0, sigma):\n",
    "        if dimension != 1:\n",
    "            print (\"Dimension not equal to 1, can't apply Bayesian Estimation Technique.\")\n",
    "        else:\n",
    "            n = data.shape[0]\n",
    "            mu = np.mean(data, axis=0)\n",
    "            covariance = (sigma0*sigma0)*(sigma*sigma) / ((sigma*sigma)+(n*sigma0*sigma0))\n",
    "            mean = ((sigma*sigma*mu0)+(n*sigma0*sigma0*mu)) / ((sigma*sigma)+(n*sigma0*sigma0))\n",
    "    "
   ]
  }
 ],
 "metadata": {
  "kernelspec": {
   "display_name": "Python 3",
   "language": "python",
   "name": "python3"
  },
  "language_info": {
   "codemirror_mode": {
    "name": "ipython",
    "version": 3
   },
   "file_extension": ".py",
   "mimetype": "text/x-python",
   "name": "python",
   "nbconvert_exporter": "python",
   "pygments_lexer": "ipython3",
   "version": "3.5.1"
  }
 },
 "nbformat": 4,
 "nbformat_minor": 0
}
