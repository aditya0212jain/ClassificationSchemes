{
 "cells": [
  {
   "cell_type": "code",
   "execution_count": 3,
   "metadata": {
    "collapsed": true
   },
   "outputs": [],
   "source": [
    "import numpy as np\n",
    "import scipy\n",
    "from scipy.stats import norm"
   ]
  },
  {
   "cell_type": "code",
   "execution_count": 1,
   "metadata": {
    "collapsed": false
   },
   "outputs": [],
   "source": [
    "class GaussianDistribution:\n",
    "    'General n-dimensional Gaussian Distribution'\n",
    "    \n",
    "    def __init__(self, dimension):\n",
    "        self.dimension = dimension\n",
    "        self.mean = np.zeros(shape=(dimension, 1))\n",
    "        self.covariance = np.zeros(shape=(dimension, dimension))\n",
    "        \n",
    "    def pdfEstimation(self, X):\n",
    "        return multivariate_normal.pdf(X, self.mean, self.covariance)\n",
    "    \n",
    "    def cdfEstimation(self, x):\n",
    "        if self.dimension != 1:\n",
    "            return -1\n",
    "        return norm.cdf(x-self.mean)\n",
    "        \n",
    "    def sample(self, sampleSize):\n",
    "        observation = np.zeros(shape=(sampleSize, self.dimension))\n",
    "        for row in range(0, self.sampleSize):\n",
    "            oservation[row] = np.random.multivariate_normal(self.mean, self.covariance)\n",
    "        return observation\n",
    "    \n",
    "    def printParameters(self):\n",
    "        print (\"Gaussian Distribution with dimension: \" + str(self.dimension))\n",
    "        print (\"Mean of the Distribution: \" + str(self.mean))\n",
    "        print (\"Covariance of the Distribution: \" + str(self.covariance))\n",
    "    \n",
    "    def Mean(self):\n",
    "        return self.mean\n",
    "    \n",
    "    def Median(self):\n",
    "        return self.mean\n",
    "    \n",
    "    def Mode(self):\n",
    "        return self.mean\n",
    "    \n",
    "    def Variance(self):\n",
    "        return self.covariance\n",
    "    \n",
    "    def MaxLikelihoodEstimation(self, data):\n",
    "        if (data.shape[1] != self.dimension):\n",
    "            print (\"Data's Dimension: \" + str(data.shape[0]) + \", doesn't match with Gaussions Distribution Dimension \" + str(self.dimension))\n",
    "        self.mean = np.mean(data, axis=0)\n",
    "        self.covariance = np.cov(data, rowvar=0)\n",
    "        \n",
    "    def BayesianEstimation(self, data, mu0, sigma0, sigma):\n",
    "        if self.dimension != 1:\n",
    "            print (\"Dimension not equal to 1, can't apply Bayesian Estimation Technique.\")\n",
    "        else:\n",
    "            n = data.shape[0]\n",
    "            mu = np.mean(data, axis=0)\n",
    "            self.covariance = (sigma0*sigma0)*(sigma*sigma) / ((sigma*sigma)+(n*sigma0*sigma0))\n",
    "            self.mean = ((sigma*sigma*mu0)+(n*sigma0*sigma0*mu)) / ((sigma*sigma)+(n*sigma0*sigma0))\n",
    "    "
   ]
  }
 ],
 "metadata": {
  "kernelspec": {
   "display_name": "Python 3",
   "language": "python",
   "name": "python3"
  },
  "language_info": {
   "codemirror_mode": {
    "name": "ipython",
    "version": 3
   },
   "file_extension": ".py",
   "mimetype": "text/x-python",
   "name": "python",
   "nbconvert_exporter": "python",
   "pygments_lexer": "ipython3",
   "version": "3.6.5"
  }
 },
 "nbformat": 4,
 "nbformat_minor": 1
}
