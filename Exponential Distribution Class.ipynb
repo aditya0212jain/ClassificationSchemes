{
 "cells": [
  {
   "cell_type": "code",
   "execution_count": 1,
   "metadata": {},
   "outputs": [],
   "source": [
    "import numpy as np\n",
    "import scipy\n",
    "from scipy.stats import norm\n",
    "import math"
   ]
  },
  {
   "cell_type": "code",
   "execution_count": 5,
   "metadata": {},
   "outputs": [],
   "source": [
    "class exponentialDistribution:\n",
    "    '''exponential ditribution for 1 dimension'''\n",
    "    \n",
    "    def __init__(self,lambdaVariable):\n",
    "        #self.dimension = dimension\n",
    "        self.lambdaVar = lambdaVariable\n",
    "        self.beta = 1/self.lambdaVar\n",
    "\n",
    "    def pdfEstimation(self,X):\n",
    "        p = self.lambdaVar*(math.exp(-1*self.lambdaVar*X))\n",
    "        return p\n",
    "    \n",
    "    def cdfEstimation(self,X):\n",
    "        if x >=0:\n",
    "            temp = 1 - exp(-1*self.lambdaVar*X)\n",
    "            return temp\n",
    "        else:\n",
    "            return -1\n",
    "        \n",
    "    def getMean(self):\n",
    "        return self.beta\n",
    "    \n",
    "    def getVariance(self):\n",
    "        return math.pow(self.beta,2)\n",
    "    \n",
    "    def getMode(self):\n",
    "        return 0\n",
    "    \n",
    "    def getMedian(self):\n",
    "        return self.beta*log(2)\n",
    "    \n",
    "    def printParameters(self):\n",
    "        print (\"Exponential Distribution with lambda: \" + str(self.lambdaVar))\n",
    "        \n",
    "    def getLambda(self):\n",
    "        return self.lambdaVar\n",
    "\n",
    "    def MaxLikelihoodEstimation(self,data):\n",
    "        n = data.shape[0]\n",
    "        sum=0\n",
    "        for i in range (0,n):\n",
    "            sum+=data[i]\n",
    "        self.lambdaVar = n/sum[0]\n",
    "        self.beta = 1/self.lambdaVar\n",
    "        \n",
    "    def BayesianEstimation(self,data):\n",
    "        #it is not implemented\n",
    "        return 0\n",
    "        "
   ]
  },
  {
   "cell_type": "code",
   "execution_count": null,
   "metadata": {},
   "outputs": [],
   "source": []
  }
 ],
 "metadata": {
  "kernelspec": {
   "display_name": "Python 3",
   "language": "python",
   "name": "python3"
  },
  "language_info": {
   "codemirror_mode": {
    "name": "ipython",
    "version": 3
   },
   "file_extension": ".py",
   "mimetype": "text/x-python",
   "name": "python",
   "nbconvert_exporter": "python",
   "pygments_lexer": "ipython3",
   "version": "3.6.5"
  }
 },
 "nbformat": 4,
 "nbformat_minor": 2
}
