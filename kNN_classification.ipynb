{
 "cells": [
  {
   "cell_type": "code",
   "execution_count": 1,
   "metadata": {},
   "outputs": [],
   "source": [
    "import numpy as np\n",
    "import scipy\n",
    "from scipy.stats import norm\n",
    "import math\n",
    "import random\n",
    "import operator"
   ]
  },
  {
   "cell_type": "code",
   "execution_count": 2,
   "metadata": {},
   "outputs": [],
   "source": [
    "class knn:\n",
    "    \"\"\"kNearest Neighbour classification implementation\"\"\"\n",
    "    \n",
    "    def __init__(self,k):\n",
    "        self.k = k\n",
    "        \n",
    "    def euclideanDistance(self,data1,data2,n):\n",
    "        distance = 0\n",
    "        for i in range(0,n):\n",
    "            distance+=np.square(data1[i]-data2[i])\n",
    "        return np.sqrt(distance)\n",
    "    \n",
    "    def manhattanDistance(self,data1,data2,n):\n",
    "        distance = 0\n",
    "        for i in range(n):\n",
    "            distance+=abs(data1[i]-data2[i])\n",
    "        return distance\n",
    "    \n",
    "    def hammingDistance(self,data1,data2,n):\n",
    "        distance = 0\n",
    "        for i in range(n):\n",
    "            if data1[i]==data2[i]:\n",
    "                distance+=1\n",
    "        return distance\n",
    "    \n",
    "    ##using euclidean distance for now\n",
    "    def getNeighbours(self,dataset,data):\n",
    "        distances = []\n",
    "        length = len(data)\n",
    "        for i in range(0,len(dataset)):\n",
    "            ##change the below line for different distances\n",
    "            dist = self.euclideanDistance(data,dataset[i],length)\n",
    "            distances.append((dataset[i],dist))\n",
    "        distances.sort(k=operator.itemgetter(1))\n",
    "        neighbours = []\n",
    "        for i in range(self.k):\n",
    "            neigbours.append(distances[i][0])\n",
    "        return neighbours\n",
    "    \n",
    "    def getClass(self,neighbours):\n",
    "        classOccurrence = {}\n",
    "        for i in range(len(neighbours)):\n",
    "            t = neighbours[i][-1]\n",
    "            if t in classOccurrence:\n",
    "                classOccurrence[t]+=1\n",
    "            else:\n",
    "                classOccurrence[t] = 1\n",
    "        sortedOccurrence = sorted(classOccurrence.items(),key=operator.itemgetter(1),reverse=True)\n",
    "        return sortedOccurrence[0][0]"
   ]
  },
  {
   "cell_type": "code",
   "execution_count": 4,
   "metadata": {},
   "outputs": [],
   "source": []
  },
  {
   "cell_type": "code",
   "execution_count": null,
   "metadata": {},
   "outputs": [],
   "source": []
  },
  {
   "cell_type": "code",
   "execution_count": null,
   "metadata": {},
   "outputs": [],
   "source": []
  }
 ],
 "metadata": {
  "kernelspec": {
   "display_name": "Python 3",
   "language": "python",
   "name": "python3"
  },
  "language_info": {
   "codemirror_mode": {
    "name": "ipython",
    "version": 3
   },
   "file_extension": ".py",
   "mimetype": "text/x-python",
   "name": "python",
   "nbconvert_exporter": "python",
   "pygments_lexer": "ipython3",
   "version": "3.6.5"
  }
 },
 "nbformat": 4,
 "nbformat_minor": 2
}
