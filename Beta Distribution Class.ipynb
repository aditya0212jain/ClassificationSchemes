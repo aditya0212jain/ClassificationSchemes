{
 "cells": [
  {
   "cell_type": "code",
   "execution_count": 1,
   "metadata": {},
   "outputs": [],
   "source": [
    "import numpy as np\n",
    "import scipy\n",
    "from scipy.stats import norm\n",
    "import math"
   ]
  },
  {
   "cell_type": "code",
   "execution_count": 2,
   "metadata": {},
   "outputs": [],
   "source": [
    "class BetaDistribution:\n",
    "    '''Beta Distribution for 1 dimension'''\n",
    "    \n",
    "    def __init__(self,alpha,beta):\n",
    "        self.alpha = alpha\n",
    "        self.beta = beta\n",
    "        \n",
    "        \n",
    "    def pdfEstimation(self, X):\n",
    "        return scipy.beta.pdf(X,self.alpha,self.beta,loc=0,scale=1)\n",
    "    \n",
    "    def cdfEstimation(self, x):\n",
    "        return scipy.beta.cdf(X,self.alpha,self.beta,loc=0,scale=1)\n",
    "        \n",
    "    def sample(self):\n",
    "        return beta.rvs(self.alpha, self.beta, loc=0, scale=1, size=1, random_state=None)\n",
    "    \n",
    "    def printParameters(self):\n",
    "        print (\"Beta Distribution with alpha: \" + str(self.alpha)+\", beta: \"+str(self.beta))\n",
    "    \n",
    "    def Mean(self):\n",
    "        return beta.mean(self.alpha,self.beta,loc=0,scale=1)\n",
    "    \n",
    "    def Median(self):\n",
    "        return beta.median(self.alpha,self.beta,loc=0,scale=1)\n",
    "    \n",
    "    def Mode(self):\n",
    "        return -1\n",
    "    \n",
    "    def Variance(self):\n",
    "        return beta.var(self.alpha,self.beta,loc=0,scale=1)\n",
    "    \n",
    "    def MaxLikelihoodEstimation(self, data):\n",
    "        #the parameters are estimated using inbuilt functions so not sure of mle or not\n",
    "        self.alpha, self.beta,loc,scale = beta.fit(data)\n",
    "        return beta.fit(data)\n",
    "        \n",
    "    def BayesianEstimation(self, data, mu0, sigma0, sigma):\n",
    "        # it is not implemented\n",
    "        return -1"
   ]
  },
  {
   "cell_type": "code",
   "execution_count": null,
   "metadata": {},
   "outputs": [],
   "source": []
  }
 ],
 "metadata": {
  "kernelspec": {
   "display_name": "Python 3",
   "language": "python",
   "name": "python3"
  },
  "language_info": {
   "codemirror_mode": {
    "name": "ipython",
    "version": 3
   },
   "file_extension": ".py",
   "mimetype": "text/x-python",
   "name": "python",
   "nbconvert_exporter": "python",
   "pygments_lexer": "ipython3",
   "version": "3.6.5"
  }
 },
 "nbformat": 4,
 "nbformat_minor": 2
}
