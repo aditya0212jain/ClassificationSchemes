{
 "cells": [
  {
   "cell_type": "code",
   "execution_count": 1,
   "metadata": {
    "collapsed": true
   },
   "outputs": [],
   "source": [
    "import numpy as np\n",
    "import scipy\n",
    "from scipy.stats import norm\n",
    "from __future__ import division"
   ]
  },
  {
   "cell_type": "code",
   "execution_count": 5,
   "metadata": {
    "collapsed": false
   },
   "outputs": [],
   "source": [
    "class BayesClassifier:\n",
    "    'General Bayes Classifier for n-dimensional data for Gaussian or Uniform Distributions.'\n",
    "    \n",
    "    def __init__(self):\n",
    "        pass\n",
    "        \n",
    "    def estimateDistribution(self, X, y, tag, classes):\n",
    "        self.tag = tag\n",
    "        self.classes = classes\n",
    "        if tag == \"Gaussian\":\n",
    "            n = X.shape[0]\n",
    "            self.priors = np.zeros(shape=(classes, 1))\n",
    "            self.dimension = X.shape[1]\n",
    "            dataPerClass = np.empty((classes, 0, self.dimension), float)\n",
    "            self.distributionList = [GaussianDistribution(self.dimension) for count in range(0,classes)]\n",
    "            for i in range(0, n):\n",
    "                classNum = y[i]\n",
    "                data = X[i]\n",
    "                self.priors[classNum] += 1\n",
    "                dataPerClass[classNum] = np.append(dataPerClass[classNum], data, axis=0)\n",
    "            for i in range(0, classes):\n",
    "                self.distributionList[i].MaxLikelihoodEstimation(dataPerClass[i])\n",
    "            self.priors /= n\n",
    "        elif tag == \"Uniform\":\n",
    "            n = X.shape[0]\n",
    "            self.priors = np.zeros(shape=(classes, 1))\n",
    "            self.dimension = X.shape[1]\n",
    "            dataPerClass = np.empty((classes, 0, self.dimension), float)\n",
    "            self.distributionList = [UniformDistribution(self.dimension) for count in range(0,classes)]\n",
    "            for i in range(0, n):\n",
    "                classNum = y[i]\n",
    "                data = X[i]\n",
    "                self.priors[classNum] += 1\n",
    "                dataPerClass[classNum] = np.append(dataPerClass[classNum], data, axis=0)\n",
    "            for classNum in range(0, classes):\n",
    "                self.distributionList[classNum].MaxLikelihoodEstimation(dataPerClass[classNum])\n",
    "            self.priors /= n\n",
    "        else:\n",
    "            print(\"This Distribution doesn't exist as in Multi-Dimesional form.\")\n",
    "    \n",
    "    def predictPropotinally(self, x, classNum):\n",
    "        if (self.tag != \"Gaussian\" or self.tag != \"Uniform\"):\n",
    "            return ((self.priors[classNum])*(self.distributionList[classNum].pdfEstimate(x)))\n",
    "        else:\n",
    "            return 0.0\n",
    "    \n",
    "    def predict(self, x, threshold):\n",
    "        predictedClass = self.classes\n",
    "        posterior = threshold\n",
    "        for classNum in range(0, self.classes):\n",
    "            classPosterior = predictPropotinally(x, classNum) \n",
    "            if classPosterior >= threshold:\n",
    "                predictedClass = classNum\n",
    "                posterior = classPosterior\n",
    "        return predictedClass\n",
    "        \n",
    "    def calculateError(self, x, mismatchLoss, rejectionLoss, predictedClass):\n",
    "        error = 0.0\n",
    "        for classNum in range(0, self.classes):\n",
    "            classPosterior = predictPropotinally(x, classNum)\n",
    "            if predictedClass != classNum:\n",
    "                if predictedClass == self.classes:\n",
    "                    error += (rejectionLoss)*(classPosterior)\n",
    "                else:\n",
    "                    error += (mismatchLoss)*(classPosterior)\n",
    "        return error"
   ]
  }
 ],
 "metadata": {
  "kernelspec": {
   "display_name": "Python 3",
   "language": "python",
   "name": "python3"
  },
  "language_info": {
   "codemirror_mode": {
    "name": "ipython",
    "version": 3
   },
   "file_extension": ".py",
   "mimetype": "text/x-python",
   "name": "python",
   "nbconvert_exporter": "python",
   "pygments_lexer": "ipython3",
   "version": "3.5.1"
  }
 },
 "nbformat": 4,
 "nbformat_minor": 0
}
