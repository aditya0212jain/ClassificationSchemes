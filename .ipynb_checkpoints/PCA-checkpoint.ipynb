{
 "cells": [
  {
   "cell_type": "code",
   "execution_count": 1,
   "metadata": {},
   "outputs": [],
   "source": [
    "import numpy as np\n",
    "import scipy\n",
    "from scipy.stats import norm\n",
    "import math\n",
    "import random"
   ]
  },
  {
   "cell_type": "code",
   "execution_count": 2,
   "metadata": {},
   "outputs": [],
   "source": [
    "class PCA:\n",
    "    def __init__(self,m):\n",
    "        self.m = m\n",
    "        \n",
    "    def dimensionReduction(self,data):\n",
    "        # data is of the form n X d , with d dimensions\n",
    "        self.d = data.shape[1]\n",
    "        self.n = data.shape[0]\n",
    "        #data -= np.mean(data,axis=0)\n",
    "        S = np.cov(data)\n",
    "        w,v = np.linalg.eig(S)\n",
    "        #w is the array of eigen values and v's are the corresponding eigen vectors\n",
    "        # for w[i] -> v[:,i] is the corresponding eigen vectors\n",
    "        tempList = []\n",
    "        for i in range(self.d):\n",
    "            tempList.append((w[i],i))\n",
    "        tempList.sort(reverse=True)\n",
    "        tempVecList = []\n",
    "        for i in range(self.m):\n",
    "            tempVecList.append(v[:,tempList[i][1]])\n",
    "        finalVecMat = np.array(tempVecList) # m X d\n",
    "        reducedMat = np.matmul(finalVecMat,data.T) # m X n\n",
    "        return reducedMat.T # n X m , dimension reduced from d -> m\n",
    "            "
   ]
  },
  {
   "cell_type": "code",
   "execution_count": null,
   "metadata": {},
   "outputs": [],
   "source": []
  }
 ],
 "metadata": {
  "kernelspec": {
   "display_name": "Python 3",
   "language": "python",
   "name": "python3"
  },
  "language_info": {
   "codemirror_mode": {
    "name": "ipython",
    "version": 3
   },
   "file_extension": ".py",
   "mimetype": "text/x-python",
   "name": "python",
   "nbconvert_exporter": "python",
   "pygments_lexer": "ipython3",
   "version": "3.6.5"
  }
 },
 "nbformat": 4,
 "nbformat_minor": 2
}
