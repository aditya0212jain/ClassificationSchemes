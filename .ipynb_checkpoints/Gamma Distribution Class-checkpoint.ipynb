{
 "cells": [
  {
   "cell_type": "code",
   "execution_count": 25,
   "metadata": {
    "collapsed": true
   },
   "outputs": [],
   "source": [
    "import numpy as np\n",
    "import scipy\n",
    "import math\n",
    "from scipy.stats import norm\n",
    "from scipy.stats import gamma"
   ]
  },
  {
   "cell_type": "code",
   "execution_count": 24,
   "metadata": {
    "collapsed": true
   },
   "outputs": [],
   "source": [
    "class GammaDistribution:\n",
    "    '1-dimensional General Gamma Distribution'\n",
    "    \n",
    "    def __init__(self, k, theta):\n",
    "        self.k = k\n",
    "        self.theta = theta\n",
    "        \n",
    "    def pdfEstimation(self, x):\n",
    "        if x>=0 and self.k>0 and self.theta>0:\n",
    "            return gamma.pdf(x, self.k, 0, self.theta)\n",
    "        else:\n",
    "            return \"There is no simple way to find out the pdf of this distribution.\"\n",
    "        \n",
    "    def cdfEstimate(self, x):\n",
    "        if x>=0 and self.k>0 and self.theta>0:\n",
    "            return gamma.cdf(x, self.k, 0, self.theta)\n",
    "        else:\n",
    "            return \"There is no simple way to find out the cdf of this distribution.\"\n",
    "        \n",
    "    def sample(self, sampleSize):\n",
    "        if self.k>0 and self.theta>0:\n",
    "            observation = gamma.rvs(self.k, 0, self.theta, sampleSize)\n",
    "            return observation\n",
    "        else:\n",
    "            return \"Assumptions are not upto the mark.\"\n",
    "    \n",
    "    def printParameters(self):\n",
    "        print (\"Shape parameter of Gamma Distribution is \" + str(self.k))\n",
    "        print (\"Scale parameter of Gamma Distribution is \" + str(self.theta))\n",
    "        \n",
    "    def Mean(self):\n",
    "        return self.k*self.theta\n",
    "    \n",
    "    def Median(self):\n",
    "        return \"No simple way to produce median of gamma distribution.\"\n",
    "        \n",
    "    def Mode(self):\n",
    "        if self.k>=1:\n",
    "            return (self.k-1)*self.theta\n",
    "        else:\n",
    "            return \"Shape parameter is less than 1 so we can't fnd the mode.\"\n",
    "    \n",
    "    def Variance(self):\n",
    "        return self.k*(self.theta**2)\n",
    "    \n",
    "    # ref: http://math.wikia.com/wiki/Gamma_distribution\n",
    "    def MaxLikelihoodEstimation(self, data):\n",
    "        n = data.shape[0]\n",
    "        totalSum = sum(data)\n",
    "        logSum = sum(np.log(data))\n",
    "        s = ((math.log(totalSum/n)) - (logSum/n))\n",
    "        self.k = ((3-s) + (math.sqrt(((s-3)**2) + (24*s))))/(12*s)\n",
    "        self.theta = (totalSum/(n*self.k))"
   ]
  }
 ],
 "metadata": {
  "kernelspec": {
   "display_name": "Python 3",
   "language": "python",
   "name": "python3"
  },
  "language_info": {
   "codemirror_mode": {
    "name": "ipython",
    "version": 3
   },
   "file_extension": ".py",
   "mimetype": "text/x-python",
   "name": "python",
   "nbconvert_exporter": "python",
   "pygments_lexer": "ipython3",
   "version": "3.5.1"
  }
 },
 "nbformat": 4,
 "nbformat_minor": 0
}
