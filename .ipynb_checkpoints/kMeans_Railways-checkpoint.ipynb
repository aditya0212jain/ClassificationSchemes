{
 "cells": [
  {
   "cell_type": "code",
   "execution_count": 1,
   "metadata": {},
   "outputs": [],
   "source": [
    "import numpy as np\n",
    "import scipy\n",
    "from scipy.stats import norm\n",
    "import math\n",
    "import random\n",
    "import csv\n",
    "import pandas as pd"
   ]
  },
  {
   "cell_type": "code",
   "execution_count": 21,
   "metadata": {},
   "outputs": [],
   "source": [
    "class mykMeans:\n",
    "\n",
    "    def __init__(self,k,n,d):\n",
    "        # k is the number of clusters to form\n",
    "        self.k = k\n",
    "        # centroid points\n",
    "        self.centroid = np.zeros(k*d).reshape(k,d)\n",
    "        # weights are the how much each feature matters\n",
    "        self.weights = np.ones(d)\n",
    "        # d is the dimension of the feature vector\n",
    "        self.d = d\n",
    "        # n is the number of the samples we have\n",
    "        self.n = n\n",
    "        #cluster is the stored value of the data\n",
    "        self.cluster = np.zeros(n)\n",
    "\n",
    "    def showValues(self):\n",
    "        print(\"k:\",self.k)\n",
    "        print(\"n:\",self.n)\n",
    "        print(\"d:\",self.d)\n",
    "\n",
    "    def weights(self,data):\n",
    "        for i in range (0,self.d):\n",
    "            # for now the weights are set as 1\n",
    "            self.weights[i]=1\n",
    "\n",
    "    def dis(self,data,centroidIndex):\n",
    "        distance =0\n",
    "        #using euclidean distance with weights in this case\n",
    "        for i in range (0,self.d):\n",
    "            distance = distance + ((float(data[i])-self.centroid[centroidIndex][i])**2)\n",
    "        return distance\n",
    "\n",
    "    def updateClass(self,data):\n",
    "#         print('n in update class: ',self.n)\n",
    "        for i in range (0,self.n):\n",
    "            minDistance = math.inf\n",
    "#             print(\"i in updateClass: \",i)\n",
    "            for j in range (0,self.k):\n",
    "                tempDist = self.dis(data[i],j)\n",
    "                if(tempDist<minDistance):\n",
    "                    self.cluster[i] = j\n",
    "                    minDistance = tempDist\n",
    "                    # print('cluster: ',j)\n",
    "        # self.printAllClasses()\n",
    "\n",
    "    def updateCentroids(self,data):\n",
    "        converged = True\n",
    "        tempCentroid = np.zeros(self.k*self.d).reshape(self.k,self.d)\n",
    "        tempCnumbers = np.zeros(self.k)\n",
    "        for i in range(0,self.n):\n",
    "            clusIndex = (int)(self.cluster[i])\n",
    "            # print('clusindex for i:',i,clusIndex)\n",
    "            tempCnumbers[clusIndex]+=1\n",
    "            for k in range(len(tempCentroid[clusIndex])):\n",
    "                tempCentroid[clusIndex][k]+= float(data[i][k])\n",
    "        for i in range(0,self.k):\n",
    "            t = (tempCentroid[i]/tempCnumbers[i])==self.centroid[i]\n",
    "            for j in range(0,self.d):\n",
    "                if(t[j]==False):\n",
    "                    converged = False\n",
    "                    break\n",
    "            self.centroid[i] = tempCentroid[i]/tempCnumbers[i]\n",
    "        return converged\n",
    "\n",
    "    def initializeCentroids(self,data):\n",
    "        #right now it takes only the first k elements\n",
    "        for i in range(0,self.k):\n",
    "            self.centroid[i] = data[random.randint(0,self.n-1)]\n",
    "\n",
    "    def classify(self,data,max_iter):\n",
    "        convergence = False\n",
    "        self.initializeCentroids(data)\n",
    "        p=0\n",
    "        while((convergence==False) and (p!=max_iter)):\n",
    "#             print(p)\n",
    "            p+=1\n",
    "            self.updateClass(data)\n",
    "            convergence = self.updateCentroids(data)\n",
    "        print(\"Classification Done\")\n",
    "#         print(\"Now printing cluster values:\")\n",
    "#         self.printAllClasses()\n",
    "\n",
    "    def getClass(self,data):\n",
    "        minDistance = math.inf\n",
    "        clusterNumber = -1\n",
    "        for j in range (0,self.k):\n",
    "            tempDist = self.dis(data,j)\n",
    "            if(tempDist<minDistance):\n",
    "                clusterNumber = j\n",
    "                minDistance = tempDist\n",
    "        return clusterNumber\n",
    "    \n",
    "    def getClassForAll(self,data):\n",
    "        n = data.shape[0]\n",
    "        ansList=[]\n",
    "        for i in range(n):\n",
    "            ans = self.getClass(data[i])\n",
    "            ansList.append(ans)\n",
    "#             print(ans)\n",
    "        return ansList\n",
    "        \n",
    "    def printAllClasses(self):\n",
    "        for i in range(0,self.n):\n",
    "            print(self.cluster[i])"
   ]
  },
  {
   "cell_type": "code",
   "execution_count": 13,
   "metadata": {},
   "outputs": [
    {
     "name": "stdout",
     "output_type": "stream",
     "text": [
      "[2666.0, 1187333.0, 1157.0, 3004.0, 844.0]\n",
      "[2.0351145038167937, 906.36106870229, 0.883206106870229, 2.2931297709923664, 0.6442748091603053]\n",
      "[3650.384732824454, 181390576.21449652, 3281.130534351174, 923.4381679389444, 300.23206106870134]\n",
      "[2.7865532311637056, 138466.08871335612, 2.504679797214637, 0.7049146320144614, 0.22918477944175675]\n",
      "[['caseID' 'boarded' 'budget' ... 'preferredClass' 'sex' 'age']\n",
      " ['111131089' '2' '2201' ... '1' '0' '0']\n",
      " ['2489059216' '0' '1775' ... '1' '1' '0']\n",
      " ...\n",
      " ['956944496' '2' '710' ... '3' '1' '1']\n",
      " ['3100624207' '2' '710' ... '3' '1' '1']\n",
      " ['3068255754' '0' '710' ... '0' '1' '1']]\n",
      "[['-0.01260141145' '0.009349862795' '-0.35262236228' '-1.83444875771'\n",
      "  '-2.81115879828']\n",
      " ['-0.73033397713' '0.006273297233' '0.845135532088' '-1.83444875771'\n",
      "  '1.552132701421']\n",
      " ['-0.73033397713' '0.006273297233' '0.845135532088' '-1.83444875771'\n",
      "  '-2.81115879828']\n",
      " ...\n",
      " ['-0.01260141145' '-0.00141811667' '-0.35262236228' '1.002774232374'\n",
      "  '1.552132701421']\n",
      " ['-0.01260141145' '-0.00141811667' '-0.35262236228' '1.002774232374'\n",
      "  '1.552132701421']\n",
      " ['-0.73033397713' '-0.00141811667' '-0.35262236228' '-3.25306025275'\n",
      "  '1.552132701421']]\n"
     ]
    }
   ],
   "source": [
    "with open('../railwayBookingList.csv','r') as csv_file:\n",
    "    csv_reader = list(csv.reader(csv_file,delimiter=\",\"))\n",
    "#     csv_dicReader = csv.DictReader(csv_file)\n",
    "    my_data = np.array(csv_reader)\n",
    "    \n",
    "    test=[]\n",
    "    \n",
    "    for i in range(1,len(my_data)):\n",
    "        #print (my_data[i])\n",
    "        a = my_data[i][1]\n",
    "        my_data[i][1]= my_data[i][6]\n",
    "        my_data[i][6]= a\n",
    "        #exchange age category with class\n",
    "        \n",
    "        if (my_data[i][5]=='male'):\n",
    "            my_data[i][5]=1\n",
    "        else:\n",
    "            my_data[i][5]=0\n",
    "        \n",
    "        if (my_data[i][4]=='FIRST_AC'):\n",
    "            my_data[i][4]=1\n",
    "        elif (my_data[i][4]=='NO_PREF'):\n",
    "            my_data[i][4]=0\n",
    "        elif (my_data[i][4]=='SECOND_AC'):\n",
    "            my_data[i][4]=2\n",
    "        else:\n",
    "            my_data[i][4]=3\n",
    "        test.append(np.delete(my_data[i],[0,6]))\n",
    "\n",
    "\n",
    "otest = np.asarray(test)\n",
    "total = [0,0,0,0,0]\n",
    "for i in otest:\n",
    "    for j in range(5):\n",
    "        total[j] = total[j] + float(i[j])\n",
    "\n",
    "print (total)\n",
    "mean = []\n",
    "for k in range(len(total)):\n",
    "    mean.append(float(total[k]/1310.0))\n",
    "\n",
    "print(mean)\n",
    "    \n",
    "data = [0,0,0,0,0]\n",
    "for i in otest:\n",
    "    for j in range(5):\n",
    "        data[j] = data[j] + (float(i[j])-mean[j])**2.0\n",
    "print(data)\n",
    "\n",
    "variance= []\n",
    "for k in range(len(total)):\n",
    "    variance.append(float(data[k]/1310.0))\n",
    "\n",
    "print (variance)   \n",
    "\n",
    "x0 = []\n",
    "x1 = []\n",
    "\n",
    "for i in range(len(otest)):\n",
    "    for j in range(5):\n",
    "        otest[i][j] = float((float(otest[i][j])-mean[j])/variance[j])\n",
    "print(my_data)\n",
    "print (otest)"
   ]
  },
  {
   "cell_type": "code",
   "execution_count": 22,
   "metadata": {},
   "outputs": [
    {
     "name": "stdout",
     "output_type": "stream",
     "text": [
      "Classification Done\n"
     ]
    }
   ],
   "source": [
    "obj = mykMeans(2,1310,5)\n",
    "obj.classify(otest,100)"
   ]
  },
  {
   "cell_type": "code",
   "execution_count": 23,
   "metadata": {},
   "outputs": [
    {
     "name": "stdout",
     "output_type": "stream",
     "text": [
      "[0, 1, 0, 1, 0, 1, 0, 1, 0, 1, 1, 0, 0, 0, 1, 1, 1, 0, 0, 1, 1, 0, 1, 0, 0, 1, 1, 0, 0, 1, 1, 1, 0, 0, 1, 0, 0, 1, 1, 1, 1, 0, 0, 0, 0, 1, 1, 1, 0, 1, 0, 1, 1, 1, 1, 0, 1, 0, 1, 0, 1, 0, 1, 0, 1, 0, 0, 0, 1, 0, 1, 1, 0, 0, 1, 1, 0, 1, 0, 0, 1, 1, 0, 0, 1, 0, 1, 1, 0, 1, 0, 1, 0, 1, 1, 0, 1, 0, 0, 0, 1, 1, 0, 0, 0, 0, 1, 0, 0, 1, 1, 0, 0, 0, 1, 1, 0, 0, 1, 1, 1, 0, 0, 1, 0, 1, 1, 0, 1, 0, 0, 0, 1, 1, 0, 1, 1, 0, 1, 0, 1, 0, 1, 1, 0, 1, 0, 1, 1, 0, 1, 1, 1, 0, 1, 0, 1, 1, 1, 0, 0, 0, 1, 0, 1, 1, 1, 0, 0, 0, 1, 1, 1, 1, 1, 1, 0, 1, 0, 1, 0, 0, 0, 1, 1, 1, 0, 0, 0, 1, 0, 1, 0, 0, 1, 0, 1, 1, 0, 0, 1, 1, 1, 1, 0, 1, 1, 0, 0, 1, 1, 1, 1, 0, 0, 1, 0, 1, 0, 1, 0, 1, 1, 1, 1, 1, 1, 0, 1, 0, 0, 1, 1, 0, 1, 1, 1, 1, 0, 1, 1, 1, 0, 1, 1, 0, 1, 0, 1, 1, 0, 0, 1, 0, 1, 0, 1, 0, 0, 1, 0, 1, 1, 0, 1, 1, 1, 1, 1, 1, 0, 1, 0, 1, 1, 0, 1, 0, 1, 1, 1, 0, 0, 1, 0, 1, 0, 1, 0, 0, 1, 0, 1, 0, 1, 1, 0, 0, 1, 1, 1, 1, 0, 1, 0, 1, 1, 1, 0, 0, 1, 0, 1, 1, 0, 0, 1, 1, 1, 0, 1, 1, 0, 1, 0, 1, 1, 1, 1, 0, 1, 1, 1, 0, 1, 1, 1, 0, 1, 1, 0, 0, 0, 1, 0, 1, 1, 1, 1, 0, 0, 1, 0, 0, 1, 0, 1, 1, 0, 1, 1, 0, 0, 1, 1, 0, 1, 1, 1, 0, 0, 0, 1, 0, 1, 1, 1, 0, 1, 0, 0, 0, 0, 1, 1, 1, 1, 0, 0, 1, 1, 1, 0, 1, 1, 0, 0, 1, 1, 1, 0, 0, 0, 1, 1, 1, 1, 0, 1, 1, 1, 0, 1, 1, 1, 0, 1, 1, 1, 1, 1, 1, 1, 1, 1, 1, 1, 1, 0, 1, 0, 1, 1, 1, 0, 1, 0, 0, 0, 1, 0, 0, 1, 1, 1, 0, 0, 1, 1, 0, 1, 1, 0, 1, 1, 1, 0, 1, 0, 1, 0, 1, 1, 1, 1, 0, 1, 0, 0, 0, 1, 0, 1, 1, 1, 0, 1, 1, 0, 0, 1, 0, 0, 0, 0, 1, 1, 1, 1, 0, 0, 1, 1, 1, 0, 1, 1, 1, 1, 1, 1, 0, 0, 1, 1, 1, 1, 1, 1, 1, 1, 1, 1, 0, 1, 1, 1, 1, 1, 1, 1, 0, 1, 1, 1, 1, 1, 1, 1, 0, 1, 1, 1, 0, 0, 1, 0, 1, 1, 1, 0, 0, 0, 1, 1, 0, 0, 1, 1, 1, 0, 0, 1, 0, 1, 1, 1, 0, 0, 0, 0, 1, 0, 1, 0, 1, 1, 1, 1, 1, 0, 1, 0, 0, 1, 0, 1, 0, 1, 1, 0, 1, 0, 0, 0, 1, 0, 1, 0, 0, 0, 0, 1, 0, 1, 1, 1, 1, 0, 0, 1, 1, 1, 0, 0, 1, 1, 0, 1, 1, 0, 1, 0, 1, 1, 1, 1, 1, 1, 1, 1, 0, 1, 0, 0, 0, 0, 0, 0, 1, 1, 1, 0, 1, 1, 1, 0, 1, 1, 1, 1, 1, 1, 0, 1, 1, 0, 0, 1, 1, 0, 1, 1, 0, 1, 1, 0, 0, 0, 0, 0, 0, 1, 1, 1, 0, 0, 0, 1, 1, 1, 1, 1, 1, 1, 1, 1, 1, 1, 0, 1, 0, 0, 1, 0, 1, 0, 0, 1, 1, 1, 1, 0, 1, 1, 0, 0, 0, 1, 1, 1, 1, 0, 1, 1, 1, 0, 1, 1, 0, 0, 1, 1, 1, 1, 1, 1, 1, 1, 1, 1, 1, 1, 1, 1, 0, 0, 1, 1, 1, 1, 1, 1, 1, 1, 0, 1, 1, 0, 1, 1, 1, 1, 0, 1, 0, 1, 1, 1, 0, 1, 1, 1, 1, 1, 1, 1, 0, 1, 0, 1, 1, 1, 0, 1, 0, 1, 1, 1, 1, 1, 0, 1, 1, 1, 1, 1, 1, 0, 0, 0, 1, 1, 1, 1, 0, 1, 1, 1, 1, 1, 1, 1, 1, 0, 1, 1, 1, 1, 1, 0, 1, 1, 1, 1, 1, 0, 0, 1, 1, 1, 0, 1, 1, 1, 1, 1, 1, 0, 0, 1, 1, 1, 0, 1, 1, 1, 1, 0, 0, 1, 1, 0, 1, 1, 1, 1, 1, 1, 1, 0, 0, 1, 1, 1, 0, 1, 1, 1, 1, 1, 0, 0, 1, 1, 1, 0, 1, 1, 0, 0, 0, 0, 1, 0, 0, 0, 0, 1, 1, 0, 1, 0, 1, 1, 1, 1, 0, 0, 1, 1, 1, 1, 1, 1, 1, 0, 1, 1, 1, 1, 1, 1, 1, 1, 0, 1, 1, 1, 0, 1, 0, 1, 0, 1, 1, 1, 0, 0, 1, 1, 1, 1, 1, 1, 1, 0, 1, 1, 1, 1, 1, 0, 0, 1, 1, 1, 1, 0, 1, 1, 1, 0, 1, 0, 1, 0, 0, 1, 0, 1, 1, 1, 0, 1, 1, 1, 0, 1, 1, 1, 1, 1, 1, 1, 0, 0, 0, 0, 1, 1, 0, 1, 1, 1, 1, 0, 0, 1, 0, 1, 1, 1, 1, 1, 0, 1, 1, 1, 1, 0, 1, 1, 1, 0, 1, 1, 0, 1, 1, 1, 1, 0, 0, 1, 1, 1, 0, 1, 0, 1, 0, 0, 1, 0, 1, 0, 0, 0, 1, 1, 0, 0, 0, 0, 1, 1, 1, 1, 1, 1, 1, 1, 0, 1, 1, 0, 1, 0, 1, 1, 1, 1, 1, 1, 1, 0, 0, 1, 0, 0, 1, 0, 0, 0, 1, 1, 0, 0, 1, 0, 1, 1, 1, 0, 1, 1, 0, 0, 1, 0, 0, 1, 1, 1, 1, 1, 0, 1, 1, 1, 0, 1, 1, 1, 1, 0, 0, 0, 0, 1, 0, 1, 1, 1, 1, 0, 1, 1, 1, 0, 0, 1, 1, 0, 0, 1, 1, 0, 0, 0, 1, 1, 1, 1, 1, 0, 1, 1, 1, 1, 1, 0, 0, 1, 1, 1, 1, 1, 1, 1, 1, 0, 0, 0, 1, 0, 1, 1, 1, 0, 1, 1, 1, 1, 1, 0, 1, 1, 1, 1, 1, 1, 1, 1, 1, 0, 0, 1, 0, 1, 0, 1, 0, 1, 1, 0, 1, 0, 0, 1, 1, 1, 1, 1, 1, 1, 1, 1, 1, 1, 1, 0, 0, 0, 0, 1, 1, 1, 1, 0, 1, 0, 1, 1, 1, 1, 0, 0, 0, 1, 1, 1, 1, 1, 1, 1, 1, 0, 1, 1, 1, 1, 1, 1, 0, 1, 1, 0, 0, 1, 0, 1, 1, 1, 1, 0, 1, 1, 1, 1, 1, 1, 0, 1, 1, 1, 0, 1, 1, 0, 0, 1, 1, 1, 1, 1, 1, 1, 1, 1, 1, 1, 1, 0, 1, 1, 0, 1, 1, 1, 1, 1, 1, 1, 1, 1, 0, 0, 1, 0, 0, 1, 1, 1, 0, 1, 0, 1, 1, 1, 1, 1, 0, 1, 1, 0, 1, 1, 0, 1, 1, 1, 1, 1, 1, 0, 1, 1, 1, 0, 1, 1, 1, 1, 1, 1, 1, 1, 1, 0, 1, 1, 1, 0, 0, 1, 1, 1, 1]\n"
     ]
    }
   ],
   "source": [
    "ansList = obj.getClassForAll(otest)\n",
    "print (ansList)"
   ]
  },
  {
   "cell_type": "code",
   "execution_count": 25,
   "metadata": {},
   "outputs": [
    {
     "name": "stdout",
     "output_type": "stream",
     "text": [
      "288\n"
     ]
    }
   ],
   "source": [
    "err = 0\n",
    "for i in range(len(otest)):\n",
    "    if ansList[i]!=int(my_data[i+1][6]):\n",
    "        err = err + 1\n",
    "print (err)"
   ]
  },
  {
   "cell_type": "code",
   "execution_count": null,
   "metadata": {},
   "outputs": [],
   "source": []
  },
  {
   "cell_type": "code",
   "execution_count": null,
   "metadata": {},
   "outputs": [],
   "source": []
  },
  {
   "cell_type": "code",
   "execution_count": null,
   "metadata": {},
   "outputs": [],
   "source": []
  },
  {
   "cell_type": "code",
   "execution_count": 468,
   "metadata": {},
   "outputs": [],
   "source": [
    "### below is the scikit one==================================================================================================="
   ]
  },
  {
   "cell_type": "code",
   "execution_count": 34,
   "metadata": {},
   "outputs": [
    {
     "ename": "AttributeError",
     "evalue": "'KMeans' object has no attribute 'showValues'",
     "output_type": "error",
     "traceback": [
      "\u001b[1;31m---------------------------------------------------------------------------\u001b[0m",
      "\u001b[1;31mAttributeError\u001b[0m                            Traceback (most recent call last)",
      "\u001b[1;32m<ipython-input-34-942052924d17>\u001b[0m in \u001b[0;36m<module>\u001b[1;34m()\u001b[0m\n\u001b[0;32m      1\u001b[0m \u001b[1;32mfrom\u001b[0m \u001b[0msklearn\u001b[0m\u001b[1;33m.\u001b[0m\u001b[0mcluster\u001b[0m \u001b[1;32mimport\u001b[0m \u001b[0mKMeans\u001b[0m\u001b[1;33m\u001b[0m\u001b[0m\n\u001b[0;32m      2\u001b[0m \u001b[0mskmeans\u001b[0m \u001b[1;33m=\u001b[0m\u001b[0mKMeans\u001b[0m\u001b[1;33m(\u001b[0m\u001b[0mn_clusters\u001b[0m\u001b[1;33m=\u001b[0m\u001b[1;36m3\u001b[0m\u001b[1;33m)\u001b[0m\u001b[1;33m\u001b[0m\u001b[0m\n\u001b[1;32m----> 3\u001b[1;33m \u001b[0mskmeans\u001b[0m\u001b[1;33m.\u001b[0m\u001b[0mshowValues\u001b[0m\u001b[1;33m(\u001b[0m\u001b[1;33m)\u001b[0m\u001b[1;33m\u001b[0m\u001b[0m\n\u001b[0m\u001b[0;32m      4\u001b[0m \u001b[0mskmeans\u001b[0m\u001b[1;33m.\u001b[0m\u001b[0mfit\u001b[0m\u001b[1;33m(\u001b[0m\u001b[0motest\u001b[0m\u001b[1;33m)\u001b[0m\u001b[1;33m\u001b[0m\u001b[0m\n\u001b[0;32m      5\u001b[0m \u001b[0mans\u001b[0m \u001b[1;33m=\u001b[0m \u001b[0mskmeans\u001b[0m\u001b[1;33m.\u001b[0m\u001b[0mlabels_\u001b[0m\u001b[1;33m\u001b[0m\u001b[0m\n",
      "\u001b[1;31mAttributeError\u001b[0m: 'KMeans' object has no attribute 'showValues'"
     ]
    }
   ],
   "source": [
    "from sklearn.cluster import KMeans\n",
    "skmeans =KMeans(n_clusters=3)\n",
    "skmeans.fit(otest)\n",
    "ans = skmeans.labels_\n",
    "tl = ans==ansClust\n",
    "print(tl)\n",
    "errcount=0\n",
    "for p in range(1310):\n",
    "    if tl[p]==False:\n",
    "        errcount+=1\n",
    "print(errcount)"
   ]
  },
  {
   "cell_type": "code",
   "execution_count": 470,
   "metadata": {},
   "outputs": [],
   "source": [
    "####Below is the Fashion Mnist data\n",
    "####-------------------------------------------------------------------------------------------------------------------------"
   ]
  },
  {
   "cell_type": "code",
   "execution_count": 471,
   "metadata": {},
   "outputs": [],
   "source": [
    "import os\n",
    "import sys\n",
    "scriptpath = \"./fashion-mnist/utils\"\n",
    "\n",
    "# Add the directory containing your module to the Python path (wants absolute paths)\n",
    "sys.path.append(os.path.abspath(scriptpath))\n",
    "import mnist_reader\n",
    "X_train, Y_train = mnist_reader.load_mnist('./fashion-mnist/data/fashion', kind='train')\n",
    "X_test, Y_test = mnist_reader.load_mnist('./fashion-mnist/data/fashion', kind='t10k')\n",
    "\n",
    "class PCA:\n",
    "    def __init__(self,m):\n",
    "        self.m = m\n",
    "        \n",
    "    def dimensionReduction(self,data):\n",
    "        # data is of the form n X d , with d dimensions\n",
    "        self.d = data.shape[1]\n",
    "        self.n = data.shape[0]\n",
    "        #data -= np.mean(data,axis=0)\n",
    "        S = np.cov(data.T)\n",
    "        w,v = np.linalg.eig(S)\n",
    "        #w is the array of eigen values and v's are the corresponding eigen vectors\n",
    "        # for w[i] -> v[:,i] is the corresponding eigen vectors\n",
    "        tempList = []\n",
    "        for i in range(self.d):\n",
    "            tempList.append((w[i],i))\n",
    "        tempList.sort(reverse=True)\n",
    "        tempVecList = []\n",
    "        for i in range(self.m):\n",
    "            tempVecList.append(v[:,tempList[i][1]])\n",
    "        finalVecMat = np.array(tempVecList) # m X d\n",
    "        reducedMat = np.matmul(finalVecMat,data.T) # m X n\n",
    "        return reducedMat.T # n X m , dimension reduced from d -> m\n",
    "            "
   ]
  },
  {
   "cell_type": "code",
   "execution_count": 480,
   "metadata": {},
   "outputs": [],
   "source": [
    "    pcaObj = PCA(2)\n",
    "    reducedTrain = pcaObj.dimensionReduction(X_train)\n",
    "    reducedTest = pcaObj.dimensionReduction(X_test)"
   ]
  },
  {
   "cell_type": "code",
   "execution_count": 481,
   "metadata": {},
   "outputs": [
    {
     "name": "stdout",
     "output_type": "stream",
     "text": [
      "Classification Done\n"
     ]
    }
   ],
   "source": [
    "obj = mykMeans(10,10000,2)\n",
    "obj.classify(reducedTrain,300)"
   ]
  },
  {
   "cell_type": "code",
   "execution_count": 482,
   "metadata": {},
   "outputs": [],
   "source": [
    "ansList = obj.getClassForAll(reducedTest)"
   ]
  },
  {
   "cell_type": "code",
   "execution_count": 483,
   "metadata": {},
   "outputs": [
    {
     "name": "stdout",
     "output_type": "stream",
     "text": [
      "5604\n"
     ]
    }
   ],
   "source": [
    "maparr =np.zeros(100).reshape(10,10)\n",
    "for i in range(10000):\n",
    "    maparr[int(ansList[i])][Y_test[i]]+=1\n",
    "maplist= np.zeros(10).reshape(10,1)\n",
    "for i in range(10):\n",
    "    maxi = -1*math.inf\n",
    "    index=-1\n",
    "    for j in range(10):\n",
    "        if max(maxi,maparr[i][j])!=maxi:\n",
    "            maxi=maparr[i][j]\n",
    "            index=j\n",
    "    maplist[i]=index\n",
    "for i in range(10000):\n",
    "    ansList[i] = maplist[int(ansList[i])]\n",
    "ansList = np.array(ansList)\n",
    "ansClust = np.array(Y_test)\n",
    "errcount=0\n",
    "for p in range(10000):\n",
    "    if ansClust[p]!=ansList[p]:\n",
    "        errcount+=1\n",
    "print(errcount)"
   ]
  },
  {
   "cell_type": "code",
   "execution_count": null,
   "metadata": {},
   "outputs": [],
   "source": []
  },
  {
   "cell_type": "code",
   "execution_count": null,
   "metadata": {},
   "outputs": [],
   "source": []
  },
  {
   "cell_type": "code",
   "execution_count": 478,
   "metadata": {},
   "outputs": [
    {
     "data": {
      "text/plain": [
       "KMeans(algorithm='auto', copy_x=True, init='k-means++', max_iter=300,\n",
       "    n_clusters=10, n_init=10, n_jobs=1, precompute_distances='auto',\n",
       "    random_state=None, tol=0.0001, verbose=0)"
      ]
     },
     "execution_count": 478,
     "metadata": {},
     "output_type": "execute_result"
    }
   ],
   "source": [
    "skmeans =KMeans(n_clusters=10)\n",
    "skmeans.fit(reducedTest)\n",
    "# ans = skmeans.labels_"
   ]
  },
  {
   "cell_type": "code",
   "execution_count": 479,
   "metadata": {},
   "outputs": [
    {
     "name": "stdout",
     "output_type": "stream",
     "text": [
      "5559\n"
     ]
    }
   ],
   "source": [
    "ansList = skmeans.labels_\n",
    "maparr =np.zeros(100).reshape(10,10)\n",
    "for i in range(10000):\n",
    "    maparr[int(ansList[i])][Y_test[i]]+=1\n",
    "maplist= np.zeros(10).reshape(10,1)\n",
    "for i in range(10):\n",
    "    maxi = -1*math.inf\n",
    "    index=-1\n",
    "    for j in range(10):\n",
    "        if max(maxi,maparr[i][j])!=maxi:\n",
    "            maxi=maparr[i][j]\n",
    "            index=j\n",
    "    maplist[i]=index\n",
    "for i in range(10000):\n",
    "    ansList[i] = maplist[int(ansList[i])]\n",
    "ansList = np.array(ansList)\n",
    "ansClust = np.array(Y_test)\n",
    "errcount=0\n",
    "for p in range(10000):\n",
    "    if ansClust[p]!=ansList[p]:\n",
    "        errcount+=1\n",
    "print(errcount)"
   ]
  },
  {
   "cell_type": "code",
   "execution_count": 393,
   "metadata": {},
   "outputs": [],
   "source": []
  },
  {
   "cell_type": "code",
   "execution_count": null,
   "metadata": {},
   "outputs": [],
   "source": []
  },
  {
   "cell_type": "code",
   "execution_count": null,
   "metadata": {},
   "outputs": [],
   "source": []
  }
 ],
 "metadata": {
  "kernelspec": {
   "display_name": "Python 3",
   "language": "python",
   "name": "python3"
  },
  "language_info": {
   "codemirror_mode": {
    "name": "ipython",
    "version": 3
   },
   "file_extension": ".py",
   "mimetype": "text/x-python",
   "name": "python",
   "nbconvert_exporter": "python",
   "pygments_lexer": "ipython3",
   "version": "3.6.5"
  }
 },
 "nbformat": 4,
 "nbformat_minor": 2
}
