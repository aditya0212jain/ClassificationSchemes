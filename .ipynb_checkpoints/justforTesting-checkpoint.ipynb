{
 "cells": [
  {
   "cell_type": "code",
   "execution_count": 1,
   "metadata": {},
   "outputs": [],
   "source": [
    "import csv"
   ]
  },
  {
   "cell_type": "code",
   "execution_count": 2,
   "metadata": {},
   "outputs": [],
   "source": [
    "import numpy as np\n",
    "import scipy\n",
    "from scipy.stats import norm\n",
    "import math\n",
    "import random\n",
    "import operator"
   ]
  },
  {
   "cell_type": "code",
   "execution_count": 3,
   "metadata": {},
   "outputs": [],
   "source": [
    "class knn:\n",
    "    \"\"\"kNearest Neighbour classification implementation\"\"\"\n",
    "    \n",
    "    def __init__(self,k):\n",
    "        self.k = k\n",
    "        \n",
    "    def euclideanDistance(self,data1,data2,n):\n",
    "        distance = 0\n",
    "        for i in range(0,n):\n",
    "            distance+=np.square(data1[i]-data2[i])\n",
    "        return np.sqrt(distance)\n",
    "    \n",
    "    def manhattanDistance(self,data1,data2,n):\n",
    "        distance = 0\n",
    "        for i in range(n):\n",
    "            distance+=abs(data1[i]-data2[i])\n",
    "        return distance\n",
    "    \n",
    "    def hammingDistance(self,data1,data2,n):\n",
    "        distance = 0\n",
    "        for i in range(n):\n",
    "            if data1[i]==data2[i]:\n",
    "                distance+=1\n",
    "        return distance\n",
    "    \n",
    "    ##using euclidean distance for now\n",
    "    def getNeighbours(self,dataset,data):\n",
    "        distances = []\n",
    "        length = len(data)\n",
    "        for i in range(0,len(dataset)):\n",
    "            ##change the below line for different distances\n",
    "            dist = self.euclideanDistance(data,dataset[i],length)\n",
    "            distances.append((dataset[i],dist))\n",
    "        distances.sort(key=operator.itemgetter(1))\n",
    "        neighbours = []\n",
    "        for i in range(self.k):\n",
    "            neighbours.append(distances[i][0])\n",
    "        return neighbours\n",
    "    \n",
    "    def getClass(self,neighbours):\n",
    "        classOccurrence = {}\n",
    "        for i in range(len(neighbours)):\n",
    "            t = neighbours[i][-1]\n",
    "            if t in classOccurrence:\n",
    "                classOccurrence[t]+=1\n",
    "            else:\n",
    "                classOccurrence[t] = 1\n",
    "        sortedOccurrence = sorted(classOccurrence.items(),key=operator.itemgetter(1),reverse=True)\n",
    "        return sortedOccurrence[0][0]"
   ]
  },
  {
   "cell_type": "code",
   "execution_count": 4,
   "metadata": {},
   "outputs": [],
   "source": [
    "with open('../../Medical_data.csv','r') as csv_file:\n",
    "    csv_reader = list(csv.reader(csv_file,delimiter=\",\"))\n",
    "    csv_dicReader = csv.DictReader(csv_file)\n",
    "    my_data = np.array(csv_reader)\n",
    "    # print(my_data)\n",
    "\n",
    "    ##following the data for Medical_data.csv for kMeans\n",
    "    new_data = np.array(my_data[1:,1:],dtype=np.float)\n",
    "    #next() <- makes the line skip\n",
    "    # my_data = np.genfromtxt('../Medical_data.csv',delimiter=',',skipheader=1)\n",
    "\n",
    "    # for line in csv_reader:\n",
    "    #     print(line)\n",
    "    # for line in csv_dicReader:\n",
    "    #     print(line)\n",
    "    b = np.ones((new_data.shape[0],1))\n",
    "    x = np.hstack((new_data,b))\n",
    "    for i in range(new_data.shape[0]):\n",
    "        if my_data[i+1][0]=='HEALTHY':\n",
    "            x[i][3]=0\n",
    "        elif my_data[i+1][0]=='SURGERY':\n",
    "            x[i][3]=1\n",
    "        else:\n",
    "            x[i][3]=2\n",
    "    \n",
    "#     for i in range(1001):\n",
    "#         print(x[i][3])"
   ]
  },
  {
   "cell_type": "code",
   "execution_count": 5,
   "metadata": {},
   "outputs": [],
   "source": [
    "    obj = knn(5)"
   ]
  },
  {
   "cell_type": "code",
   "execution_count": 7,
   "metadata": {},
   "outputs": [
    {
     "name": "stdout",
     "output_type": "stream",
     "text": [
      "2 0\n",
      "5 208\n",
      "5 208\n"
     ]
    },
    {
     "ename": "KeyboardInterrupt",
     "evalue": "",
     "output_type": "error",
     "traceback": [
      "\u001b[1;31m---------------------------------------------------------------------------\u001b[0m",
      "\u001b[1;31mKeyboardInterrupt\u001b[0m                         Traceback (most recent call last)",
      "\u001b[1;32m<ipython-input-7-094dc9a1cadd>\u001b[0m in \u001b[0;36m<module>\u001b[1;34m()\u001b[0m\n\u001b[0;32m      4\u001b[0m     \u001b[0mcount\u001b[0m\u001b[1;33m=\u001b[0m\u001b[1;36m0\u001b[0m\u001b[1;33m\u001b[0m\u001b[0m\n\u001b[0;32m      5\u001b[0m     \u001b[1;32mfor\u001b[0m \u001b[0mi\u001b[0m \u001b[1;32min\u001b[0m \u001b[0mrange\u001b[0m\u001b[1;33m(\u001b[0m\u001b[1;36m3000\u001b[0m\u001b[1;33m)\u001b[0m\u001b[1;33m:\u001b[0m\u001b[1;33m\u001b[0m\u001b[0m\n\u001b[1;32m----> 6\u001b[1;33m         \u001b[0mnei\u001b[0m \u001b[1;33m=\u001b[0m \u001b[0mobj\u001b[0m\u001b[1;33m.\u001b[0m\u001b[0mgetNeighbours\u001b[0m\u001b[1;33m(\u001b[0m\u001b[0mx\u001b[0m\u001b[1;33m,\u001b[0m\u001b[0mnew_data\u001b[0m\u001b[1;33m[\u001b[0m\u001b[0mi\u001b[0m\u001b[1;33m]\u001b[0m\u001b[1;33m)\u001b[0m\u001b[1;33m\u001b[0m\u001b[0m\n\u001b[0m\u001b[0;32m      7\u001b[0m \u001b[1;31m#     print(nei)\u001b[0m\u001b[1;33m\u001b[0m\u001b[1;33m\u001b[0m\u001b[0m\n\u001b[0;32m      8\u001b[0m         \u001b[0mans\u001b[0m \u001b[1;33m=\u001b[0m \u001b[0mobj\u001b[0m\u001b[1;33m.\u001b[0m\u001b[0mgetClass\u001b[0m\u001b[1;33m(\u001b[0m\u001b[0mnei\u001b[0m\u001b[1;33m)\u001b[0m\u001b[1;33m\u001b[0m\u001b[0m\n",
      "\u001b[1;32m<ipython-input-3-3322be56d024>\u001b[0m in \u001b[0;36mgetNeighbours\u001b[1;34m(self, dataset, data)\u001b[0m\n\u001b[0;32m     30\u001b[0m         \u001b[1;32mfor\u001b[0m \u001b[0mi\u001b[0m \u001b[1;32min\u001b[0m \u001b[0mrange\u001b[0m\u001b[1;33m(\u001b[0m\u001b[1;36m0\u001b[0m\u001b[1;33m,\u001b[0m\u001b[0mlen\u001b[0m\u001b[1;33m(\u001b[0m\u001b[0mdataset\u001b[0m\u001b[1;33m)\u001b[0m\u001b[1;33m)\u001b[0m\u001b[1;33m:\u001b[0m\u001b[1;33m\u001b[0m\u001b[0m\n\u001b[0;32m     31\u001b[0m             \u001b[1;31m##change the below line for different distances\u001b[0m\u001b[1;33m\u001b[0m\u001b[1;33m\u001b[0m\u001b[0m\n\u001b[1;32m---> 32\u001b[1;33m             \u001b[0mdist\u001b[0m \u001b[1;33m=\u001b[0m \u001b[0mself\u001b[0m\u001b[1;33m.\u001b[0m\u001b[0meuclideanDistance\u001b[0m\u001b[1;33m(\u001b[0m\u001b[0mdata\u001b[0m\u001b[1;33m,\u001b[0m\u001b[0mdataset\u001b[0m\u001b[1;33m[\u001b[0m\u001b[0mi\u001b[0m\u001b[1;33m]\u001b[0m\u001b[1;33m,\u001b[0m\u001b[0mlength\u001b[0m\u001b[1;33m)\u001b[0m\u001b[1;33m\u001b[0m\u001b[0m\n\u001b[0m\u001b[0;32m     33\u001b[0m             \u001b[0mdistances\u001b[0m\u001b[1;33m.\u001b[0m\u001b[0mappend\u001b[0m\u001b[1;33m(\u001b[0m\u001b[1;33m(\u001b[0m\u001b[0mdataset\u001b[0m\u001b[1;33m[\u001b[0m\u001b[0mi\u001b[0m\u001b[1;33m]\u001b[0m\u001b[1;33m,\u001b[0m\u001b[0mdist\u001b[0m\u001b[1;33m)\u001b[0m\u001b[1;33m)\u001b[0m\u001b[1;33m\u001b[0m\u001b[0m\n\u001b[0;32m     34\u001b[0m         \u001b[0mdistances\u001b[0m\u001b[1;33m.\u001b[0m\u001b[0msort\u001b[0m\u001b[1;33m(\u001b[0m\u001b[0mkey\u001b[0m\u001b[1;33m=\u001b[0m\u001b[0moperator\u001b[0m\u001b[1;33m.\u001b[0m\u001b[0mitemgetter\u001b[0m\u001b[1;33m(\u001b[0m\u001b[1;36m1\u001b[0m\u001b[1;33m)\u001b[0m\u001b[1;33m)\u001b[0m\u001b[1;33m\u001b[0m\u001b[0m\n",
      "\u001b[1;32m<ipython-input-3-3322be56d024>\u001b[0m in \u001b[0;36meuclideanDistance\u001b[1;34m(self, data1, data2, n)\u001b[0m\n\u001b[0;32m      8\u001b[0m         \u001b[0mdistance\u001b[0m \u001b[1;33m=\u001b[0m \u001b[1;36m0\u001b[0m\u001b[1;33m\u001b[0m\u001b[0m\n\u001b[0;32m      9\u001b[0m         \u001b[1;32mfor\u001b[0m \u001b[0mi\u001b[0m \u001b[1;32min\u001b[0m \u001b[0mrange\u001b[0m\u001b[1;33m(\u001b[0m\u001b[1;36m0\u001b[0m\u001b[1;33m,\u001b[0m\u001b[0mn\u001b[0m\u001b[1;33m)\u001b[0m\u001b[1;33m:\u001b[0m\u001b[1;33m\u001b[0m\u001b[0m\n\u001b[1;32m---> 10\u001b[1;33m             \u001b[0mdistance\u001b[0m\u001b[1;33m+=\u001b[0m\u001b[0mnp\u001b[0m\u001b[1;33m.\u001b[0m\u001b[0msquare\u001b[0m\u001b[1;33m(\u001b[0m\u001b[0mdata1\u001b[0m\u001b[1;33m[\u001b[0m\u001b[0mi\u001b[0m\u001b[1;33m]\u001b[0m\u001b[1;33m-\u001b[0m\u001b[0mdata2\u001b[0m\u001b[1;33m[\u001b[0m\u001b[0mi\u001b[0m\u001b[1;33m]\u001b[0m\u001b[1;33m)\u001b[0m\u001b[1;33m\u001b[0m\u001b[0m\n\u001b[0m\u001b[0;32m     11\u001b[0m         \u001b[1;32mreturn\u001b[0m \u001b[0mnp\u001b[0m\u001b[1;33m.\u001b[0m\u001b[0msqrt\u001b[0m\u001b[1;33m(\u001b[0m\u001b[0mdistance\u001b[0m\u001b[1;33m)\u001b[0m\u001b[1;33m\u001b[0m\u001b[0m\n\u001b[0;32m     12\u001b[0m \u001b[1;33m\u001b[0m\u001b[0m\n",
      "\u001b[1;31mKeyboardInterrupt\u001b[0m: "
     ]
    }
   ],
   "source": [
    "po = 2\n",
    "while po !=500:\n",
    "    obj = knn(po)\n",
    "    count=0\n",
    "    for i in range(3000):\n",
    "        nei = obj.getNeighbours(x,new_data[i])\n",
    "#     print(nei)\n",
    "        ans = obj.getClass(nei)\n",
    "        if ans != x[i][3]:\n",
    "            count+=1\n",
    "#         print(ans)\n",
    "    print(str(po)+\" \"+str(count))\n",
    "    if po==2:\n",
    "        po+=3\n",
    "    else:\n",
    "        po+=5\n",
    "#     print(3)"
   ]
  },
  {
   "cell_type": "code",
   "execution_count": 11,
   "metadata": {},
   "outputs": [
    {
     "ename": "AttributeError",
     "evalue": "module 'threading' has no attribute 'start_new_thread'",
     "output_type": "error",
     "traceback": [
      "\u001b[1;31m---------------------------------------------------------------------------\u001b[0m",
      "\u001b[1;31mAttributeError\u001b[0m                            Traceback (most recent call last)",
      "\u001b[1;32m<ipython-input-11-b88a163a95f4>\u001b[0m in \u001b[0;36m<module>\u001b[1;34m()\u001b[0m\n\u001b[0;32m     17\u001b[0m         \u001b[1;32melse\u001b[0m\u001b[1;33m:\u001b[0m\u001b[1;33m\u001b[0m\u001b[0m\n\u001b[0;32m     18\u001b[0m             \u001b[0mpo\u001b[0m\u001b[1;33m+=\u001b[0m\u001b[1;36m5\u001b[0m\u001b[1;33m\u001b[0m\u001b[0m\n\u001b[1;32m---> 19\u001b[1;33m \u001b[0mthreading\u001b[0m\u001b[1;33m.\u001b[0m\u001b[0mstart_new_thread\u001b[0m\u001b[1;33m(\u001b[0m \u001b[0mcheckValues\u001b[0m\u001b[1;33m,\u001b[0m \u001b[1;33m(\u001b[0m\u001b[1;36m2\u001b[0m\u001b[1;33m,\u001b[0m \u001b[1;36m50\u001b[0m\u001b[1;33m,\u001b[0m \u001b[1;33m)\u001b[0m \u001b[1;33m)\u001b[0m\u001b[1;33m\u001b[0m\u001b[0m\n\u001b[0m\u001b[0;32m     20\u001b[0m \u001b[0mthreading\u001b[0m\u001b[1;33m.\u001b[0m\u001b[0mstart_new_thread\u001b[0m\u001b[1;33m(\u001b[0m\u001b[0mcheckValues\u001b[0m\u001b[1;33m,\u001b[0m\u001b[1;33m(\u001b[0m\u001b[1;36m55\u001b[0m\u001b[1;33m,\u001b[0m\u001b[1;36m100\u001b[0m\u001b[1;33m,\u001b[0m\u001b[1;33m)\u001b[0m\u001b[1;33m)\u001b[0m\u001b[1;33m\u001b[0m\u001b[0m\n",
      "\u001b[1;31mAttributeError\u001b[0m: module 'threading' has no attribute 'start_new_thread'"
     ]
    }
   ],
   "source": [
    "import threading\n",
    "def checkValues(start,end):\n",
    "    po= start\n",
    "    while po !=end:\n",
    "        obj = knn(po)\n",
    "        count=0\n",
    "        for i in range(3000):\n",
    "            nei = obj.getNeighbours(x,new_data[i])\n",
    "#     print(nei)\n",
    "            ans = obj.getClass(nei)\n",
    "            if ans != x[i][3]:\n",
    "                count+=1\n",
    "#         print(ans)\n",
    "        print(str(po)+\" \"+str(count))\n",
    "        if po==2:\n",
    "            po+=3\n",
    "        else:\n",
    "            po+=5\n",
    "threading.start_new_thread( checkValues, (2, 50, ) )\n",
    "threading.start_new_thread(checkValues,(55,100,))\n"
   ]
  },
  {
   "cell_type": "code",
   "execution_count": null,
   "metadata": {},
   "outputs": [],
   "source": []
  }
 ],
 "metadata": {
  "kernelspec": {
   "display_name": "Python 3",
   "language": "python",
   "name": "python3"
  },
  "language_info": {
   "codemirror_mode": {
    "name": "ipython",
    "version": 3
   },
   "file_extension": ".py",
   "mimetype": "text/x-python",
   "name": "python",
   "nbconvert_exporter": "python",
   "pygments_lexer": "ipython3",
   "version": "3.6.5"
  }
 },
 "nbformat": 4,
 "nbformat_minor": 2
}
