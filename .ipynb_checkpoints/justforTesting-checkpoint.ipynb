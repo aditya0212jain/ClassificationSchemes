{
 "cells": [
  {
   "cell_type": "code",
   "execution_count": 35,
   "metadata": {},
   "outputs": [],
   "source": [
    "import csv\n",
    "import numpy as np"
   ]
  },
  {
   "cell_type": "code",
   "execution_count": 36,
   "metadata": {},
   "outputs": [],
   "source": [
    "import numpy as np\n",
    "import scipy\n",
    "from scipy.stats import norm\n",
    "import math\n",
    "import random\n",
    "import operator"
   ]
  },
  {
   "cell_type": "code",
   "execution_count": 37,
   "metadata": {},
   "outputs": [],
   "source": [
    "class knn:\n",
    "    \"\"\"kNearest Neighbour classification implementation\"\"\"\n",
    "    \n",
    "    def __init__(self,k):\n",
    "        self.k = k\n",
    "        \n",
    "    def euclideanDistance(self,data1,data2,n):\n",
    "        distance = 0\n",
    "        for i in range(0,n):\n",
    "            distance+=np.square(data1[i]-data2[i])\n",
    "        return np.sqrt(distance)\n",
    "    \n",
    "    def manhattanDistance(self,data1,data2,n):\n",
    "        distance = 0\n",
    "        for i in range(n):\n",
    "            distance+=abs(data1[i]-data2[i])\n",
    "        return distance\n",
    "    \n",
    "    def hammingDistance(self,data1,data2,n):\n",
    "        distance = 0\n",
    "        for i in range(n):\n",
    "            if data1[i]==data2[i]:\n",
    "                distance+=1\n",
    "        return distance\n",
    "    \n",
    "    ##using euclidean distance for now\n",
    "    def getNeighbours(self,dataset,data):\n",
    "        distances = []\n",
    "        length = len(data)\n",
    "        for i in range(0,len(dataset)):\n",
    "            ##change the below line for different distances\n",
    "            dist = self.euclideanDistance(data,dataset[i],length)\n",
    "            distances.append((dataset[i],dist))\n",
    "        distances.sort(key=operator.itemgetter(1))\n",
    "        neighbours = []\n",
    "        for i in range(self.k):\n",
    "            neighbours.append(distances[i][0])\n",
    "        return neighbours\n",
    "    \n",
    "    def getClass(self,neighbours):\n",
    "        classOccurrence = {}\n",
    "        for i in range(len(neighbours)):\n",
    "            t = neighbours[i][-1]\n",
    "            if t in classOccurrence:\n",
    "                classOccurrence[t]+=1\n",
    "            else:\n",
    "                classOccurrence[t] = 1\n",
    "        sortedOccurrence = sorted(classOccurrence.items(),key=operator.itemgetter(1),reverse=True)\n",
    "        return sortedOccurrence[0][0]"
   ]
  },
  {
   "cell_type": "code",
   "execution_count": 43,
   "metadata": {},
   "outputs": [],
   "source": [
    "with open('../../Medical_data.csv','r') as csv_file:\n",
    "    csv_reader = list(csv.reader(csv_file,delimiter=\",\"))\n",
    "    csv_dicReader = csv.DictReader(csv_file)\n",
    "    my_data = np.array(csv_reader)\n",
    "    # print(my_data)\n",
    "\n",
    "    ##following the data for Medical_data.csv for kMeans\n",
    "    new_data = np.array(my_data[1:,1:],dtype=np.float)\n",
    "    #next() <- makes the line skip\n",
    "    # my_data = np.genfromtxt('../Medical_data.csv',delimiter=',',skipheader=1)\n",
    "\n",
    "    # for line in csv_reader:\n",
    "    #     print(line)\n",
    "    # for line in csv_dicReader:\n",
    "    #     print(line)\n",
    "    b = np.ones((new_data.shape[0],1))\n",
    "    x = np.hstack((new_data,b))\n",
    "    for i in range(new_data.shape[0]):\n",
    "        if my_data[i+1][0]=='HEALTHY':\n",
    "            x[i][3]=0\n",
    "        elif my_data[i+1][0]=='SURGERY':\n",
    "            x[i][3]=1\n",
    "        else:\n",
    "            x[i][3]=2\n",
    "    \n",
    "#     for i in range(1001):\n",
    "#         print(x[i][3])"
   ]
  },
  {
   "cell_type": "code",
   "execution_count": 41,
   "metadata": {},
   "outputs": [],
   "source": [
    "    obj = knn(5)"
   ]
  },
  {
   "cell_type": "code",
   "execution_count": 44,
   "metadata": {},
   "outputs": [
    {
     "name": "stdout",
     "output_type": "stream",
     "text": [
      "208\n"
     ]
    }
   ],
   "source": [
    "    count=0\n",
    "    for i in range(3000):\n",
    "        nei = obj.getNeighbours(x,new_data[i])\n",
    "#     print(nei)\n",
    "        ans = obj.getClass(nei)\n",
    "        if ans != x[i][3]:\n",
    "            count+=1\n",
    "#         print(ans)\n",
    "    print(count)\n",
    "#     print(3)"
   ]
  },
  {
   "cell_type": "code",
   "execution_count": null,
   "metadata": {},
   "outputs": [],
   "source": [
    "print()"
   ]
  },
  {
   "cell_type": "code",
   "execution_count": null,
   "metadata": {},
   "outputs": [],
   "source": []
  },
  {
   "cell_type": "code",
   "execution_count": null,
   "metadata": {},
   "outputs": [],
   "source": []
  },
  {
   "cell_type": "code",
   "execution_count": null,
   "metadata": {},
   "outputs": [],
   "source": []
  },
  {
   "cell_type": "code",
   "execution_count": null,
   "metadata": {},
   "outputs": [],
   "source": []
  }
 ],
 "metadata": {
  "kernelspec": {
   "display_name": "Python 3",
   "language": "python",
   "name": "python3"
  },
  "language_info": {
   "codemirror_mode": {
    "name": "ipython",
    "version": 3
   },
   "file_extension": ".py",
   "mimetype": "text/x-python",
   "name": "python",
   "nbconvert_exporter": "python",
   "pygments_lexer": "ipython3",
   "version": "3.6.5"
  }
 },
 "nbformat": 4,
 "nbformat_minor": 2
}
