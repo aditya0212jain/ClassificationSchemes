{
 "cells": [
  {
   "cell_type": "code",
   "execution_count": 3,
   "metadata": {
    "collapsed": true
   },
   "outputs": [],
   "source": [
    "import numpy as np\n",
    "import scipy\n",
    "from scipy.stats import norm"
   ]
  },
  {
   "cell_type": "code",
   "execution_count": 4,
   "metadata": {
    "collapsed": false
   },
   "outputs": [
    {
     "ename": "SyntaxError",
     "evalue": "invalid syntax (<ipython-input-4-75b8a1c926d0>, line 22)",
     "output_type": "error",
     "traceback": [
      "\u001b[1;36m  File \u001b[1;32m\"<ipython-input-4-75b8a1c926d0>\"\u001b[1;36m, line \u001b[1;32m22\u001b[0m\n\u001b[1;33m    for row in range(0, sampleSize)\u001b[0m\n\u001b[1;37m                                   ^\u001b[0m\n\u001b[1;31mSyntaxError\u001b[0m\u001b[1;31m:\u001b[0m invalid syntax\n"
     ]
    }
   ],
   "source": [
    "class GaussianDistribution:\n",
    "    'General n-dimensional Gaussian Distribution'\n",
    "    dimension\n",
    "    mean\n",
    "    covariance\n",
    "    \n",
    "    def __init__(self, dimension):\n",
    "        self.dimension = dimension\n",
    "        self.mean = np.zeros(shape=(dimension, 1))\n",
    "        self.covariance = np.zeros(shape=(dimension, dimension))\n",
    "        \n",
    "    def pdfEstimation(self, X):\n",
    "        return multivariate_normal.pdf(X, mean, covariance)\n",
    "    \n",
    "    def cdfEstimation(self, x):\n",
    "        if dimension != 1:\n",
    "            return -1\n",
    "        return norm.cdf(x-mean)\n",
    "        \n",
    "    def sample(self, sampleSize):\n",
    "        observation = np.zeros(shape=(sampleSize, dimension))\n",
    "        for row in range(0, sampleSize):\n",
    "            oservation[row] = np.random.multivariate_normal(mean, covariance)\n",
    "        return observation\n",
    "    \n",
    "    def printParameters(self):\n",
    "        print \"Gaussian Distribution with dimension: \" + dimension \n",
    "        print \"Mean of the Distribution: \" + mean\n",
    "        print \"Covariance of the Distribution: \" + covariance\n",
    "    \n",
    "    def MaxLikelihoodEstimation(self, data):\n",
    "        if (data.shape[0] != dimension):\n",
    "            print \"Error: GaussianDistribution -> MaxLikelihoodEstimation: Data's Dimension: \" + str(data.shape[0]) + \n",
    "                  \", doesn't match with Gaussions Distribution Dimension \" + str(dimension)\n",
    "        mean = np.mean(data, axis=0)\n",
    "        covariance = np.cov(data, rowvar=0)\n",
    "        \n",
    "    "
   ]
  },
  {
   "cell_type": "code",
   "execution_count": null,
   "metadata": {
    "collapsed": true
   },
   "outputs": [],
   "source": []
  }
 ],
 "metadata": {
  "kernelspec": {
   "display_name": "Python 3",
   "language": "python",
   "name": "python3"
  },
  "language_info": {
   "codemirror_mode": {
    "name": "ipython",
    "version": 3
   },
   "file_extension": ".py",
   "mimetype": "text/x-python",
   "name": "python",
   "nbconvert_exporter": "python",
   "pygments_lexer": "ipython3",
   "version": "3.5.1"
  }
 },
 "nbformat": 4,
 "nbformat_minor": 0
}
