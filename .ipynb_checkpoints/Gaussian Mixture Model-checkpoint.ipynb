{
 "cells": [
  {
   "cell_type": "code",
   "execution_count": 7,
   "metadata": {
    "collapsed": false
   },
   "outputs": [],
   "source": [
    "import numpy as np\n",
    "import pandas as pd\n",
    "import random as rand\n",
    "import matplotlib.pyplot as plt\n",
    "from scipy.stats import norm\n",
    "import math"
   ]
  },
  {
   "cell_type": "code",
   "execution_count": 76,
   "metadata": {
    "collapsed": false
   },
   "outputs": [],
   "source": [
    "class GaussianMixtureModel:\n",
    "    'A two Mode one feature GMM'\n",
    "    \n",
    "    def __init__(self):\n",
    "        self.modes = 2\n",
    "        self.dimension = 1\n",
    "        \n",
    "    def initialGuess(self, guess1, guess2):\n",
    "        self.mean1 = np.array([guess1])\n",
    "        self.sigma1 = np.array([[1]])\n",
    "        self.weight1 = 0.5\n",
    "\n",
    "        self.mean2 = np.array([guess2])\n",
    "        self.sigma2 = np.array([[1]])\n",
    "        self.weight2 = 0.5\n",
    "        \n",
    "    def probability(self, x, mean, sigma, weight):\n",
    "        return weight*(norm.pdf(x, mean, sigma))\n",
    "    \n",
    "    def expectation(self, X):\n",
    "        labels = np.zeros((X.shape[0], 1))\n",
    "        n = X.shape[0]\n",
    "        for i in range(0, n):\n",
    "            p1 = self.probability(X[i], self.mean1, self.sigma1, self.weight1)\n",
    "            p2 = self.probability(X[i], self.mean2, self.sigma2, self.weight2)\n",
    "            if p1>p2:\n",
    "                labels[i] = 0\n",
    "            else:\n",
    "                labels[i] = 1\n",
    "        return np.concatenate((X, labels), axis=1)\n",
    "        \n",
    "    def maximization(self, X):\n",
    "        n = X.shape[0]\n",
    "        x1 = []\n",
    "        x2 = []\n",
    "        fraction1 = 0\n",
    "        fraction2 = 0\n",
    "        for i in range(0, n):\n",
    "            label = X[i, 1]\n",
    "            if label == 0:\n",
    "                x1 = np.append(x1, X[i, 0])\n",
    "                fraction1 += 1\n",
    "            else:\n",
    "                x2 = np.append(x2, X[i, 0])\n",
    "                fraction2 += 1\n",
    "        print(x1)\n",
    "        print(x2)\n",
    "        if fraction1 == 0:\n",
    "            self.weight1 = 0.5\n",
    "            self.weight2 = 0.5\n",
    "            self.mean1 = self.mean2 - 1\n",
    "            self.sigma1 = self.sigma2 - 1\n",
    "        elif fraction2 == 0:\n",
    "            self.weight1 = 0.5\n",
    "            self.weight2 = 0.5\n",
    "            self.mean2 = self.mean1 - 1\n",
    "            self.sigma2 = self.sigma1 - 1\n",
    "        else:\n",
    "            self.weight1 = fraction1 / n\n",
    "            self.weight2 = fraction2 / n\n",
    "            self.mean1 = np.mean(x1)\n",
    "            self.mean2 = np.mean(x2)\n",
    "            self.sigma1 = np.std(x1)\n",
    "            self.sigma2 = np.std(x2)\n",
    "        \n",
    "    def distance(self, mean1old, mean2old):\n",
    "        dist = 0\n",
    "        dist += (self.mean1 - mean1old) ** 2\n",
    "        dist += (self.mean2 - mean2old) ** 2\n",
    "        return (dist ** 0.5)\n",
    "    \n",
    "    def expactationMaximasation(self, epsilon, X, guess1, guess2):\n",
    "        error = math.inf\n",
    "        iters = 0\n",
    "        self.initialGuess(guess1, guess2)\n",
    "        while error > epsilon:\n",
    "            iters += 1\n",
    "            Xlabelled = self.expectation(X)\n",
    "            print(Xlabelled)\n",
    "            mean1old = self.mean1\n",
    "            mean2old = self.mean2\n",
    "            self.maximization(Xlabelled)\n",
    "            print(self.mean1)\n",
    "            print(self.mean2)\n",
    "            error = self.distance(mean1old, mean2old)\n",
    "            print(str(iters) + \": \" + str(error))"
   ]
  },
  {
   "cell_type": "code",
   "execution_count": 38,
   "metadata": {
    "collapsed": false
   },
   "outputs": [
    {
     "name": "stdout",
     "output_type": "stream",
     "text": [
      "[[[ 0.07151424  0.68144   ]\n",
      "  [ 0.60460461  0.93779854]]\n",
      "\n",
      " [[ 0.02933662  0.42460333]\n",
      "  [ 0.61672699  0.73040419]]\n",
      "\n",
      " [[ 0.33798594  0.55445352]\n",
      "  [ 0.25632851  0.74747292]]]\n",
      "[[ 0.07151424  0.68144   ]\n",
      " [ 0.60460461  0.93779854]]\n"
     ]
    }
   ],
   "source": [
    "a = np.random.rand(3, 2, 2)\n",
    "s = sum(a)\n",
    "print(a)\n",
    "print(a[0])"
   ]
  },
  {
   "cell_type": "code",
   "execution_count": 28,
   "metadata": {
    "collapsed": false
   },
   "outputs": [
    {
     "name": "stdout",
     "output_type": "stream",
     "text": [
      "[ 1.  1.  1.]\n"
     ]
    }
   ],
   "source": [
    "print(np.ones(3))"
   ]
  },
  {
   "cell_type": "code",
   "execution_count": 29,
   "metadata": {
    "collapsed": false
   },
   "outputs": [
    {
     "name": "stdout",
     "output_type": "stream",
     "text": [
      "[[ 0.  0.  0.  0.]\n",
      " [ 0.  0.  0.  0.]\n",
      " [ 0.  0.  0.  0.]]\n",
      "[[ 0.]\n",
      " [ 0.]\n",
      " [ 0.]]\n",
      "[[ 0.  0.  0.  0.  0.]\n",
      " [ 0.  0.  0.  0.  0.]\n",
      " [ 0.  0.  0.  0.  0.]]\n"
     ]
    }
   ],
   "source": [
    "X = np.zeros((3,4))\n",
    "labels = np.zeros((X.shape[0], 1))\n",
    "print(X)\n",
    "print(labels)\n",
    "X = np.concatenate((X, labels), axis=1)\n",
    "print(X)"
   ]
  },
  {
   "cell_type": "code",
   "execution_count": 30,
   "metadata": {
    "collapsed": false
   },
   "outputs": [
    {
     "name": "stdout",
     "output_type": "stream",
     "text": [
      "[1 2 1]\n",
      "1.33333333333\n",
      "0.471404520791\n"
     ]
    }
   ],
   "source": [
    "x = np.array([1,2,1])\n",
    "print(x)\n",
    "print(np.mean(x))\n",
    "print(np.std(x))\n",
    "#y = np.empty((2, 0, 2), float)\n",
    "#y = np.zeros((2, 1, 3))\n",
    "#f0 = x[x[:,2]==0]\n",
    "#print(y[0].shape)\n",
    "#print(f0.shape)\n",
    "#y[0] = np.concatenate((y[0], f0), axis=0)\n",
    "#print(y)"
   ]
  },
  {
   "cell_type": "code",
   "execution_count": 85,
   "metadata": {
    "collapsed": false
   },
   "outputs": [
    {
     "name": "stdout",
     "output_type": "stream",
     "text": [
      "[ 1.2]\n",
      "[ 0.4 -0.1]\n",
      "1\n",
      "2\n"
     ]
    }
   ],
   "source": [
    "rand.seed(42)\n",
    "mu1 = [5]\n",
    "sig1 = [[4]]\n",
    "\n",
    "mu2 = [1]\n",
    "sig2 = [[7]]\n",
    "\n",
    "x1 = np.random.multivariate_normal(mu1, sig1, 10)\n",
    "x2 = np.random.multivariate_normal(mu2, sig2, 10)\n",
    "\n",
    "xs = np.concatenate((x1, x2))\n",
    "\n",
    "#print(x1)\n",
    "#print(x2)\n",
    "#print(xs)\n",
    "\n",
    "X = [[1.2, 0], [0.4, 1], [-0.1, 1]]\n",
    "x1 = []\n",
    "x2 = []\n",
    "fraction1 = 0\n",
    "fraction2 = 0\n",
    "for i in range(0, 3):\n",
    "    label = X[i][1]\n",
    "    if label == 0:\n",
    "        x1 = np.append(x1, X[i][0])\n",
    "        fraction1 += 1\n",
    "    else:\n",
    "        x2 = np.append(x2, X[i][0])\n",
    "        fraction2 += 1\n",
    "print(x1)        \n",
    "print(x2)\n",
    "print(fraction1)\n",
    "print(fraction2)"
   ]
  },
  {
   "cell_type": "code",
   "execution_count": 86,
   "metadata": {
    "collapsed": false
   },
   "outputs": [
    {
     "name": "stdout",
     "output_type": "stream",
     "text": [
      "[[ 5.82744024  0.        ]\n",
      " [ 4.64968165  0.        ]\n",
      " [ 6.87564742  0.        ]\n",
      " [ 4.58970911  0.        ]\n",
      " [ 4.83087068  0.        ]\n",
      " [ 8.06608067  0.        ]\n",
      " [ 3.67223563  1.        ]\n",
      " [ 5.08347936  0.        ]\n",
      " [ 5.29802309  0.        ]\n",
      " [ 3.54251883  1.        ]\n",
      " [ 2.24001762  1.        ]\n",
      " [ 1.53615409  1.        ]\n",
      " [-0.3055455   1.        ]\n",
      " [-3.02123766  1.        ]\n",
      " [-5.32245493  1.        ]\n",
      " [ 3.07546368  1.        ]\n",
      " [-0.32042094  1.        ]\n",
      " [ 0.97915045  1.        ]\n",
      " [-0.78459456  1.        ]\n",
      " [ 1.71332022  1.        ]]\n",
      "[ 5.82744024  4.64968165  6.87564742  4.58970911  4.83087068  8.06608067\n",
      "  5.08347936  5.29802309]\n",
      "[ 3.67223563  3.54251883  2.24001762  1.53615409 -0.3055455  -3.02123766\n",
      " -5.32245493  3.07546368 -0.32042094  0.97915045 -0.78459456  1.71332022]\n",
      "5.65261652748\n",
      "0.583717244849\n",
      "1: [ 1.41022465]\n",
      "[[ 5.82744024  0.        ]\n",
      " [ 4.64968165  0.        ]\n",
      " [ 6.87564742  0.        ]\n",
      " [ 4.58970911  0.        ]\n",
      " [ 4.83087068  0.        ]\n",
      " [ 8.06608067  0.        ]\n",
      " [ 3.67223563  1.        ]\n",
      " [ 5.08347936  0.        ]\n",
      " [ 5.29802309  0.        ]\n",
      " [ 3.54251883  1.        ]\n",
      " [ 2.24001762  1.        ]\n",
      " [ 1.53615409  1.        ]\n",
      " [-0.3055455   1.        ]\n",
      " [-3.02123766  1.        ]\n",
      " [-5.32245493  1.        ]\n",
      " [ 3.07546368  1.        ]\n",
      " [-0.32042094  1.        ]\n",
      " [ 0.97915045  1.        ]\n",
      " [-0.78459456  1.        ]\n",
      " [ 1.71332022  1.        ]]\n",
      "[ 5.82744024  4.64968165  6.87564742  4.58970911  4.83087068  8.06608067\n",
      "  5.08347936  5.29802309]\n",
      "[ 3.67223563  3.54251883  2.24001762  1.53615409 -0.3055455  -3.02123766\n",
      " -5.32245493  3.07546368 -0.32042094  0.97915045 -0.78459456  1.71332022]\n",
      "5.65261652748\n",
      "0.583717244849\n",
      "2: 0.0\n"
     ]
    }
   ],
   "source": [
    "GMM = GaussianMixtureModel()\n",
    "GMM.expactationMaximasation(0.01, xs, 7.0, 1.0)"
   ]
  },
  {
   "cell_type": "code",
   "execution_count": null,
   "metadata": {
    "collapsed": true
   },
   "outputs": [],
   "source": []
  }
 ],
 "metadata": {
  "kernelspec": {
   "display_name": "Python 3",
   "language": "python",
   "name": "python3"
  },
  "language_info": {
   "codemirror_mode": {
    "name": "ipython",
    "version": 3
   },
   "file_extension": ".py",
   "mimetype": "text/x-python",
   "name": "python",
   "nbconvert_exporter": "python",
   "pygments_lexer": "ipython3",
   "version": "3.5.1"
  }
 },
 "nbformat": 4,
 "nbformat_minor": 0
}
