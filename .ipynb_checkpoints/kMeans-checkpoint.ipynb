{
 "cells": [
  {
   "cell_type": "code",
   "execution_count": 1,
   "metadata": {},
   "outputs": [],
   "source": [
    "import numpy as np\n",
    "import scipy\n",
    "from scipy.stats import norm"
   ]
  },
  {
   "cell_type": "code",
   "execution_count": 6,
   "metadata": {},
   "outputs": [],
   "source": [
    "class kMeans:\n",
    "    \n",
    "    def __init__(self,k,n,d):\n",
    "        # k is the number of clusters to form\n",
    "        self.k = k\n",
    "        # centroid points\n",
    "        self.centroid = np.zeros(k*d).reshape(k,d)\n",
    "        # weights are the how much each feature matters\n",
    "        self.weights = np.ones(k)\n",
    "        # d is the dimension of the feature vector\n",
    "        self.d = d\n",
    "        # n is the number of the samples we have\n",
    "        self.n = n\n",
    "        \n",
    "    def weights(self,data):\n",
    "        for i in range (0,self.k):\n",
    "            # for now the weights are set as 1\n",
    "            self.weights[i]=1\n",
    "        \n",
    "    def dis(self,data,centroidIndex):\n",
    "        distance =0\n",
    "        #using euclidean distance with weights in this case\n",
    "        for i in range (0,self.d):\n",
    "            distance = distance + (self.weights[i]*((data[i]-self.centroid[centroidIndex][i])**2))\n",
    "        return distance\n",
    "        \n",
    "    def updateClass(self,data):\n",
    "        for i in range (0,self.n):\n",
    "            minDistance = math.inf\n",
    "            for j in range (0,self.k):\n",
    "                tempDist = dis(data[i],j)\n",
    "                if(tempDist<minDistance):\n",
    "                    self.cluster[i] = j\n",
    "                    minDistance = tempDist\n",
    "    \n",
    "    def updateCentroids(self,data):\n",
    "        converged = True\n",
    "        tempCentroid = np.zeros(self.k*self.d).reshape(k,d)\n",
    "        tempCnumbers = np.zeros(self.k)\n",
    "        for i in range(0,self.n):\n",
    "            clusIndex = self.cluster[i]\n",
    "            tempCnumbers[clusIndex]+=1\n",
    "            tempCentroid[clusIndex]+=data[i]\n",
    "        for i in range(0,self.k):\n",
    "            t = (tempCentroid[i]/tempCnumbers)==self.centroid[i]\n",
    "            for j in range(0,self.d):\n",
    "                if(t[j]==False):\n",
    "                    converged = False\n",
    "                    break\n",
    "            self.centroid[i] = tempCentroid[i]/tempCnumbers\n",
    "        return converged\n",
    "            \n",
    "    def initializeCentroids(self,data):\n",
    "        #right now it takes only the first k elements\n",
    "        for i in range(0,self.k):\n",
    "            self.centroid[i] = data[i]\n",
    "        \n",
    "    def classify(self,data):\n",
    "        convergence = False\n",
    "        initializeCentroids(data)\n",
    "        while(convergence==False):\n",
    "            updateClass(data)\n",
    "            convergence = updateCentroids(data)\n",
    "            "
   ]
  },
  {
   "cell_type": "code",
   "execution_count": null,
   "metadata": {},
   "outputs": [],
   "source": []
  }
 ],
 "metadata": {
  "kernelspec": {
   "display_name": "Python 3",
   "language": "python",
   "name": "python3"
  },
  "language_info": {
   "codemirror_mode": {
    "name": "ipython",
    "version": 3
   },
   "file_extension": ".py",
   "mimetype": "text/x-python",
   "name": "python",
   "nbconvert_exporter": "python",
   "pygments_lexer": "ipython3",
   "version": "3.6.5"
  }
 },
 "nbformat": 4,
 "nbformat_minor": 2
}
