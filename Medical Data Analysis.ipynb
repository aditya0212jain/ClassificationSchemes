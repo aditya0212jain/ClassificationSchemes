{
 "cells": [
  {
   "cell_type": "code",
   "execution_count": 42,
   "metadata": {
    "collapsed": false
   },
   "outputs": [],
   "source": [
    "import numpy as np\n",
    "import scipy\n",
    "from scipy.stats import norm\n",
    "from __future__ import division\n",
    "import pandas\n",
    "import csv\n",
    "import matplotlib.pyplot as plt"
   ]
  },
  {
   "cell_type": "code",
   "execution_count": 43,
   "metadata": {
    "collapsed": false
   },
   "outputs": [],
   "source": [
    "with open('Medical_data.csv','r') as csv_file:\n",
    "    csv_reader = list(csv.reader(csv_file,delimiter=\",\"))\n",
    "    csv_dicReader = csv.DictReader(csv_file)\n",
    "    my_data = np.array(csv_reader)\n",
    "    \n",
    "    input_data = np.array(my_data[1:,1:],dtype=np.float)\n",
    "    tag_data = np.array(my_data[1:, 0],dtype=np.string_)"
   ]
  },
  {
   "cell_type": "code",
   "execution_count": 44,
   "metadata": {
    "collapsed": false
   },
   "outputs": [
    {
     "name": "stdout",
     "output_type": "stream",
     "text": [
      "3000\n",
      "3\n"
     ]
    }
   ],
   "source": [
    "n = input_data.shape[0]\n",
    "dimension = input_data.shape[1]\n",
    "print(n)\n",
    "print(dimension)"
   ]
  },
  {
   "cell_type": "code",
   "execution_count": 51,
   "metadata": {
    "collapsed": false
   },
   "outputs": [
    {
     "name": "stdout",
     "output_type": "stream",
     "text": [
      "[ 4.52943508  0.68722268  4.28072058]\n",
      "[-1.60594029 -0.70715607 -1.31089881]\n",
      "[ 4.58908949  5.14835187  0.78020348]\n",
      "[-1.47416227 -1.86650982 -0.69548506]\n",
      "[ 0.62816343  4.61835321  5.09885427]\n",
      "[-0.67092477 -1.54539822 -1.72092974]\n"
     ]
    }
   ],
   "source": [
    "tag0 = 0\n",
    "tag1 = 0\n",
    "tag2 = 0\n",
    "in0 = 0\n",
    "in1 = 0\n",
    "in2 = 0\n",
    "tag0_data = np.zeros((1000, 3))\n",
    "tag1_data = np.zeros((1000, 3))\n",
    "tag2_data = np.zeros((1000, 3))\n",
    "for i in range(0, n):\n",
    "    if tag_data[i] == b'HEALTHY':\n",
    "        tag0_data[in0] = input_data[i]\n",
    "        in0 += 1\n",
    "    elif tag_data[i] == b'MEDICATION':\n",
    "        tag1_data[in1] = input_data[i]\n",
    "        in1 += 1\n",
    "    else:\n",
    "        tag2_data[in2] = input_data[i]\n",
    "        in2 += 1\n",
    "print(np.amax(tag0_data, axis=0))\n",
    "print(np.amin(tag0_data, axis=0))\n",
    "print(np.amax(tag1_data, axis=0))\n",
    "print(np.amin(tag1_data, axis=0))\n",
    "print(np.amax(tag2_data, axis=0))\n",
    "print(np.amin(tag2_data, axis=0))"
   ]
  },
  {
   "cell_type": "code",
   "execution_count": 79,
   "metadata": {
    "collapsed": false
   },
   "outputs": [],
   "source": [
    "data_bins = np.arange(-1.9, 5.2, 0.1)\n",
    "#print(data_bins)\n",
    "#print(tag0_data[:, 0])"
   ]
  },
  {
   "cell_type": "code",
   "execution_count": 89,
   "metadata": {
    "collapsed": true
   },
   "outputs": [],
   "source": [
    "plt.hist(tag0_data[:, 0], bins=data_bins)\n",
    "plt.show()"
   ]
  },
  {
   "cell_type": "code",
   "execution_count": 90,
   "metadata": {
    "collapsed": true
   },
   "outputs": [],
   "source": [
    "plt.hist(tag0_data[:, 1], bins=data_bins)\n",
    "plt.show()"
   ]
  },
  {
   "cell_type": "code",
   "execution_count": 91,
   "metadata": {
    "collapsed": true
   },
   "outputs": [],
   "source": [
    "plt.hist(tag0_data[:, 2], bins=data_bins)\n",
    "plt.show()"
   ]
  },
  {
   "cell_type": "code",
   "execution_count": 92,
   "metadata": {
    "collapsed": true
   },
   "outputs": [],
   "source": [
    "plt.hist(tag1_data[:, 0], bins=data_bins)\n",
    "plt.show()"
   ]
  },
  {
   "cell_type": "code",
   "execution_count": 93,
   "metadata": {
    "collapsed": true
   },
   "outputs": [],
   "source": [
    "plt.hist(tag1_data[:, 1], bins=data_bins)\n",
    "plt.show()"
   ]
  },
  {
   "cell_type": "code",
   "execution_count": 94,
   "metadata": {
    "collapsed": true
   },
   "outputs": [],
   "source": [
    "plt.hist(tag1_data[:, 2], bins=data_bins)\n",
    "plt.show()"
   ]
  },
  {
   "cell_type": "code",
   "execution_count": 95,
   "metadata": {
    "collapsed": true
   },
   "outputs": [],
   "source": [
    "plt.hist(tag2_data[:, 0], bins=data_bins)\n",
    "plt.show()"
   ]
  },
  {
   "cell_type": "code",
   "execution_count": 96,
   "metadata": {
    "collapsed": true
   },
   "outputs": [],
   "source": [
    "plt.hist(tag2_data[:, 1], bins=data_bins)\n",
    "plt.show()"
   ]
  },
  {
   "cell_type": "code",
   "execution_count": 97,
   "metadata": {
    "collapsed": true
   },
   "outputs": [],
   "source": [
    "plt.hist(tag2_data[:, 2], bins=data_bins)\n",
    "plt.show()"
   ]
  },
  {
   "cell_type": "code",
   "execution_count": null,
   "metadata": {
    "collapsed": true
   },
   "outputs": [],
   "source": []
  }
 ],
 "metadata": {
  "kernelspec": {
   "display_name": "Python 3",
   "language": "python",
   "name": "python3"
  },
  "language_info": {
   "codemirror_mode": {
    "name": "ipython",
    "version": 3
   },
   "file_extension": ".py",
   "mimetype": "text/x-python",
   "name": "python",
   "nbconvert_exporter": "python",
   "pygments_lexer": "ipython3",
   "version": "3.5.1"
  }
 },
 "nbformat": 4,
 "nbformat_minor": 0
}
