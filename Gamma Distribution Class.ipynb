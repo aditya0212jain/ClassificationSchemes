{
 "cells": [
  {
   "cell_type": "code",
   "execution_count": 1,
   "metadata": {},
   "outputs": [],
   "source": [
    "import numpy as np\n",
    "import scipy\n",
    "import math\n",
    "from scipy.stats import norm\n",
    "from scipy.stats import gamma"
   ]
  },
  {
   "cell_type": "code",
   "execution_count": 2,
   "metadata": {},
   "outputs": [],
   "source": [
    "class GammaDistribution:\n",
    "    '1-dimensional Gamma Distribution'\n",
    "    \n",
    "    def __init__(self, k, t):\n",
    "        self.k = k\n",
    "        self.t = t\n",
    "        \n",
    "    def pmfEstimation(self, x):\n",
    "        if x>=0 and self.k>0 and self.t>0:\n",
    "            return gamma.pdf(x, self.k, 0, self.t)\n",
    "        else:\n",
    "            return \"There is no simple way to find out the pdf of this distribution.\"\n",
    "        \n",
    "    def cdfEstimate(self, x):\n",
    "        if x>=0 and self.k>0 and self.t>0:\n",
    "            return gamma.cdf(x, self.k, 0, self.t)\n",
    "        else:\n",
    "            return \"There is no simple way to find out the cdf of this distribution.\"\n",
    "        \n",
    "    def sample(self, sampleSize):\n",
    "        if self.k>0 and self.t>0:\n",
    "            observation = gamma.rvs(self.k, 0, self.t, sampleSize)\n",
    "            return observation\n",
    "        else:\n",
    "            return \"Assumptions are not upto the mark.\"\n",
    "    \n",
    "    def printParameters(self):\n",
    "        print (\"Shape parameter of Gamma Distribution is \" + str(self.k))\n",
    "        print (\"Scale parameter of Gamma Distribution is \" + str(self.t))\n",
    "        \n",
    "    def Mean(self):\n",
    "        return self.k*self.t\n",
    "    \n",
    "    def Median(self):\n",
    "        return \"No simple way to produce median of gamma distribution.\"\n",
    "        \n",
    "    def Mode(self):\n",
    "        if self.k>=1:\n",
    "            return (self.k-1)*self.t\n",
    "        else:\n",
    "            return \"Shape parameter is less than 1 so we can't fnd the mode.\"\n",
    "    \n",
    "    def Variance(self):\n",
    "        return self.k*(self.t**2)\n",
    "    \n",
    "    def MaxLikelihoodEstimation(self, data):\n",
    "        n = data.shape[0]\n",
    "        a = self.k\n",
    "        xo = 0\n",
    "        x1 = 0\n",
    "        for i in range(0, n):\n",
    "            xo += data[i]\n",
    "            x1 = math.log(data[i])\n",
    "        self.t = float(xo/a)\n",
    "        self.k = float(0.5/(math.log(xo) - x1))"
   ]
  },
  {
   "cell_type": "code",
   "execution_count": null,
   "metadata": {},
   "outputs": [],
   "source": []
  }
 ],
 "metadata": {
  "kernelspec": {
   "display_name": "Python 3",
   "language": "python",
   "name": "python3"
  },
  "language_info": {
   "codemirror_mode": {
    "name": "ipython",
    "version": 3
   },
   "file_extension": ".py",
   "mimetype": "text/x-python",
   "name": "python",
   "nbconvert_exporter": "python",
   "pygments_lexer": "ipython3",
   "version": "3.6.5"
  }
 },
 "nbformat": 4,
 "nbformat_minor": 2
}
