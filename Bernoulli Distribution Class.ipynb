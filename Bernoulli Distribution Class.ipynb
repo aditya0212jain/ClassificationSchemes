{
 "cells": [
  {
   "cell_type": "code",
   "execution_count": 1,
   "metadata": {
    "collapsed": true
   },
   "outputs": [],
   "source": [
    "import numpy as np\n",
    "import scipy\n",
    "from scipy.stats import norm"
   ]
  },
  {
   "cell_type": "code",
   "execution_count": 8,
   "metadata": {},
   "outputs": [],
   "source": [
    "class BernoulliDistribution:\n",
    "    '1-dimensional Bernoulli Distribution'\n",
    "    p = 0\n",
    "    \n",
    "    def __init__(self, p):\n",
    "        self.p = p\n",
    "        \n",
    "    def pmfEstimation(self, x):\n",
    "        if x == 1:\n",
    "            return p\n",
    "        else:\n",
    "            return (1-p)\n",
    "        \n",
    "    def cdfEstimate(self, x):\n",
    "        if x < 0:\n",
    "            return 0\n",
    "        elif x >= 1:\n",
    "            return 1\n",
    "        else:\n",
    "            return (1-p)\n",
    "        \n",
    "    def sample(self, sampleSize):\n",
    "        observation = np.random.binomial(1, p, sampleSize)\n",
    "        return observation\n",
    "    \n",
    "    def printParameters(self):\n",
    "        print (\"Bernoulli Distribution with probability of success(1): \" + str(p))\n",
    "        \n",
    "    def Mean(self):\n",
    "        return p\n",
    "    \n",
    "    def Median(self):\n",
    "        if (1-p) > p:\n",
    "            return 0\n",
    "        elif p > (1-p):\n",
    "            return 1\n",
    "        else:\n",
    "            return 0.5\n",
    "        \n",
    "    def Mode(self):\n",
    "        if (1-p) >= p:\n",
    "            return 0\n",
    "        else:\n",
    "            return 1\n",
    "    \n",
    "    def Variance(self):\n",
    "        return (p*(1-p))\n",
    "    \n",
    "    def MaxLikelihoodEstimation(self, data):\n",
    "        n = data.shape[0]\n",
    "        numOfSucess = 0\n",
    "        for i in range(0, n):\n",
    "            numOfSucess += data[i]\n",
    "        p = float(numOfSucess/n)\n",
    "        \n",
    "    def BayesianEstimation(self, data, a, b):\n",
    "        n = data.shape[0]\n",
    "        numOfSucess = 0\n",
    "        for i in range(0, n):\n",
    "            numOfSucess += data[i]\n",
    "        p = float((numOfSucess + a - 1)/(n + a + b -2))"
   ]
  }
 ],
 "metadata": {
  "kernelspec": {
   "display_name": "Python 3",
   "language": "python",
   "name": "python3"
  },
  "language_info": {
   "codemirror_mode": {
    "name": "ipython",
    "version": 3
   },
   "file_extension": ".py",
   "mimetype": "text/x-python",
   "name": "python",
   "nbconvert_exporter": "python",
   "pygments_lexer": "ipython3",
   "version": "3.6.5"
  }
 },
 "nbformat": 4,
 "nbformat_minor": 1
}
