{
 "cells": [
  {
   "cell_type": "code",
   "execution_count": 1,
   "metadata": {},
   "outputs": [],
   "source": [
    "import numpy as np\n",
    "import scipy\n",
    "from scipy.stats import norm\n",
    "import math\n",
    "import operator as op"
   ]
  },
  {
   "cell_type": "code",
   "execution_count": 7,
   "metadata": {},
   "outputs": [],
   "source": [
    "def ncr(n, r):\n",
    "    r = min(r, n-r)\n",
    "    numer = reduce(op.mul, xrange(n, n-r, -1), 1)\n",
    "    denom = reduce(op.mul, xrange(1, r+1), 1)\n",
    "    return numer//denom"
   ]
  },
  {
   "cell_type": "code",
   "execution_count": 7,
   "metadata": {},
   "outputs": [],
   "source": [
    "\n",
    "class binomialDistribution:\n",
    "    '''binomial ditribution for 1 dimension'''\n",
    "    \n",
    "    def __init__(self,numberOfTrials,probOfSuccess):\n",
    "        #self.dimension = dimension\n",
    "        self.n = numberOfTrials\n",
    "        self.p = probOfSuccess\n",
    "\n",
    "    def pmfEstimation(self,k):\n",
    "        p1 = pow(self.p,k)\n",
    "        p2 = pow(1-self.p,self.n-k)\n",
    "        p3 = ncr(self.n,k)\n",
    "        p4 = p1*p2*p3\n",
    "        return p4\n",
    "    \n",
    "    def cdfEstimation(self,X):\n",
    "        return scipy.stats.binom.cdf(X, self.n, self.p)\n",
    "        \n",
    "    def getMean(self):\n",
    "        return self.n*self.p\n",
    "    \n",
    "    def getVariance(self):\n",
    "        return self.n*self.p*(1-self.p)\n",
    "    \n",
    "    def getMode(self):\n",
    "        temp (int)((self.n+1)*self.p)\n",
    "        return temp\n",
    "    \n",
    "    def getMedian(self):\n",
    "        temp = (int)(self.n*self.p)\n",
    "        return temp\n",
    "    \n",
    "    def printParameters(self):\n",
    "        print (\"Binomial Distribution with n and p: \" + str(self.n)+\" , \"+str(self.p))\n",
    "        \n",
    "    def MaxLikelihoodEstimation(self,data):\n",
    "        NumberOfSamples = data.shape[0]\n",
    "        sumTemp = 0\n",
    "        for i in range(0,NumberOfSamples):\n",
    "            sumTemp += data[i]/self.n\n",
    "        self.p = sumTemp/NumberOfSamples"
   ]
  },
  {
   "cell_type": "code",
   "execution_count": null,
   "metadata": {},
   "outputs": [],
   "source": []
  }
 ],
 "metadata": {
  "kernelspec": {
   "display_name": "Python 3",
   "language": "python",
   "name": "python3"
  },
  "language_info": {
   "codemirror_mode": {
    "name": "ipython",
    "version": 3
   },
   "file_extension": ".py",
   "mimetype": "text/x-python",
   "name": "python",
   "nbconvert_exporter": "python",
   "pygments_lexer": "ipython3",
   "version": "3.6.5"
  }
 },
 "nbformat": 4,
 "nbformat_minor": 2
}
